{
 "cells": [
  {
   "cell_type": "markdown",
   "metadata": {},
   "source": [
    "# AOC2019 - Day 3\n",
    "\n",
    "Today's challenge: [Day 3](https://adventofcode.com/2019/day/3)\n",
    "\n",
    "Data are manually downloaded into `./data/input_3.txt`"
   ]
  },
  {
   "cell_type": "code",
   "execution_count": 1,
   "metadata": {},
   "outputs": [],
   "source": [
    "with open('./data/input_3.txt') as f:\n",
    "    raw = f.read()\n",
    "    path1_, path2_ = raw.strip().split(\"\\n\")\n",
    "    path1 = path1_.split(\",\")\n",
    "    path2 = path2_.split(\",\")"
   ]
  },
  {
   "cell_type": "code",
   "execution_count": 2,
   "metadata": {},
   "outputs": [],
   "source": [
    "#path1_test = \"R75,D30,R83,U83,L12,D49,R71,U7,L72\".split(\",\")\n",
    "#path2_test = \"U62,R66,U55,R34,D71,R55,D58,R83\".split(\",\")"
   ]
  },
  {
   "cell_type": "code",
   "execution_count": 3,
   "metadata": {},
   "outputs": [],
   "source": [
    "def get_full_path(p):\n",
    "    start = (0,0)\n",
    "    full_path = [start]\n",
    "    for d, *l in p:\n",
    "        (x_, y_) = full_path[-1]\n",
    "        steps = int(\"\".join(l))\n",
    "        if d == 'R':\n",
    "            full_path += [(x_+i,y_) for i in range(steps+1)]\n",
    "        elif d == 'L':\n",
    "            full_path += [(x_-i,y_) for i in range(steps+1)]\n",
    "        elif d == 'U':\n",
    "            full_path += [(x_,y_+i) for i in range(steps+1)]\n",
    "        elif d == 'D':\n",
    "            full_path += [(x_,y_-i) for i in range(steps+1)]\n",
    "    return set(full_path)"
   ]
  },
  {
   "cell_type": "code",
   "execution_count": 4,
   "metadata": {},
   "outputs": [],
   "source": [
    "full_path_1 = get_full_path(path1)\n",
    "full_path_2 = get_full_path(path2)\n",
    "full_path_1.remove((0,0))"
   ]
  },
  {
   "cell_type": "code",
   "execution_count": 5,
   "metadata": {},
   "outputs": [
    {
     "data": {
      "text/plain": [
       "2193"
      ]
     },
     "execution_count": 5,
     "metadata": {},
     "output_type": "execute_result"
    }
   ],
   "source": [
    "min([(abs(x) + abs(y)) for x, y in full_path_1.intersection(full_path_2)])"
   ]
  },
  {
   "cell_type": "code",
   "execution_count": 6,
   "metadata": {},
   "outputs": [],
   "source": [
    "def get_full_path_with_steps(p):\n",
    "    start = (0,0,0)\n",
    "    full_path = [start]\n",
    "    for d, *l in p:\n",
    "        (x_, y_, z_) = full_path[-1]\n",
    "        steps = int(\"\".join(l))\n",
    "        if d == 'R':\n",
    "            full_path += [(x_+i,y_,z_+i) for i in range(steps+1)]\n",
    "        elif d == 'L':\n",
    "            full_path += [(x_-i,y_,z_+i) for i in range(steps+1)]\n",
    "        elif d == 'U':\n",
    "            full_path += [(x_,y_+i,z_+i) for i in range(steps+1)]\n",
    "        elif d == 'D':\n",
    "            full_path += [(x_,y_-i,z_+i) for i in range(steps+1)]\n",
    "    res = dict()\n",
    "    for x, y, z in full_path[1:]:\n",
    "        if (x,y) in res:\n",
    "            continue\n",
    "        else:\n",
    "            res[(x,y)] = z\n",
    "    return res"
   ]
  },
  {
   "cell_type": "code",
   "execution_count": 7,
   "metadata": {},
   "outputs": [],
   "source": [
    "full_path_1 = get_full_path_with_steps(path1)\n",
    "full_path_2 = get_full_path_with_steps(path2)\n",
    "del full_path_1[(0,0)]"
   ]
  },
  {
   "cell_type": "code",
   "execution_count": 8,
   "metadata": {},
   "outputs": [],
   "source": [
    "crossing_paths = set(full_path_1).intersection(full_path_2)"
   ]
  },
  {
   "cell_type": "code",
   "execution_count": 9,
   "metadata": {},
   "outputs": [
    {
     "data": {
      "text/plain": [
       "63526"
      ]
     },
     "execution_count": 9,
     "metadata": {},
     "output_type": "execute_result"
    }
   ],
   "source": [
    "_, c = min([(cp, full_path_1[cp] + full_path_2[cp]) for cp in crossing_paths], key=lambda x: x[1])\n",
    "c"
   ]
  }
 ],
 "metadata": {
  "kernelspec": {
   "display_name": "Python 3",
   "language": "python",
   "name": "python3"
  },
  "language_info": {
   "codemirror_mode": {
    "name": "ipython",
    "version": 3
   },
   "file_extension": ".py",
   "mimetype": "text/x-python",
   "name": "python",
   "nbconvert_exporter": "python",
   "pygments_lexer": "ipython3",
   "version": "3.7.5"
  }
 },
 "nbformat": 4,
 "nbformat_minor": 2
}
