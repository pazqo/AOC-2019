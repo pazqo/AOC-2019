{
 "cells": [
  {
   "cell_type": "markdown",
   "metadata": {},
   "source": [
    "# AOC2019 - Day 22\n",
    "\n",
    "Today's challenge: [Day 22](https://adventofcode.com/2019/day/22)\n",
    "\n",
    "Data are manually downloaded into `./data/input_22.txt`"
   ]
  },
  {
   "cell_type": "code",
   "execution_count": 1,
   "metadata": {},
   "outputs": [],
   "source": [
    "with open('./data/input_22.txt') as f:\n",
    "    raw = f.read()\n",
    "rows = raw.strip().split(\"\\n\")"
   ]
  },
  {
   "cell_type": "code",
   "execution_count": 2,
   "metadata": {},
   "outputs": [],
   "source": [
    "# 'cut N'      0123456 3 -> 3456012\n",
    "# 'deal_inc N' 0123456 3 -> 0531642\n",
    "# 'deal'       0123456   -> 6543210"
   ]
  },
  {
   "cell_type": "code",
   "execution_count": 3,
   "metadata": {},
   "outputs": [],
   "source": [
    "def cut(xs, N):\n",
    "    return xs[N:] + xs[:N]\n",
    "\n",
    "def deal(xs):\n",
    "    return xs[::-1]\n",
    "\n",
    "def deal_inc(xs, N):\n",
    "    L = len(xs)\n",
    "    res = L*[0]\n",
    "    for i, x in enumerate(xs):\n",
    "        res[(N*i) % L] = x\n",
    "    return res"
   ]
  },
  {
   "cell_type": "code",
   "execution_count": 4,
   "metadata": {},
   "outputs": [],
   "source": [
    "def parse(row):\n",
    "    action, *rs = row.split(\" \")\n",
    "    if action == 'cut':\n",
    "        N = int(rs[0])\n",
    "        return lambda x: cut(x, N)\n",
    "    elif action == 'deal' and rs[0] == \"with\":\n",
    "        N = int(rs[-1])\n",
    "        return lambda x: deal_inc(x, N)\n",
    "    elif action == 'deal' and rs[0] == 'into':\n",
    "        return lambda x: deal(x)"
   ]
  },
  {
   "cell_type": "code",
   "execution_count": 5,
   "metadata": {},
   "outputs": [],
   "source": [
    "xs = list(range(10006+1))\n",
    "for row in rows:\n",
    "    xs = parse(row)(xs)"
   ]
  },
  {
   "cell_type": "code",
   "execution_count": 6,
   "metadata": {},
   "outputs": [
    {
     "data": {
      "text/plain": [
       "3324"
      ]
     },
     "execution_count": 6,
     "metadata": {},
     "output_type": "execute_result"
    }
   ],
   "source": [
    "xs.index(2019)"
   ]
  },
  {
   "cell_type": "code",
   "execution_count": 7,
   "metadata": {},
   "outputs": [],
   "source": [
    "# Now part 2. Actually just do the math!"
   ]
  },
  {
   "cell_type": "code",
   "execution_count": 8,
   "metadata": {},
   "outputs": [],
   "source": [
    "L = 119315717514047 # this is a prime number, so inverse is easy!\n",
    "iterations = 101741582076661"
   ]
  },
  {
   "cell_type": "code",
   "execution_count": 9,
   "metadata": {},
   "outputs": [],
   "source": [
    "def cut_(N):\n",
    "    return (1, N) # applied as x+L % L\n",
    "\n",
    "def deal_():\n",
    "    return (-1, -1) # applied as -x-1 % L\n",
    "\n",
    "def deal_inc_(N, L=L):\n",
    "    return (inverse(N, L), 0) # applied as N^{-1}x % L"
   ]
  },
  {
   "cell_type": "code",
   "execution_count": 10,
   "metadata": {},
   "outputs": [],
   "source": [
    "def parse_(row, L=L):\n",
    "    action, *rs, val = row.split(\" \")\n",
    "    if action == 'cut':\n",
    "        return cut_(int(val))\n",
    "    elif action == 'deal' and rs[0] == \"with\":\n",
    "        return deal_inc_(int(val), L)\n",
    "    elif action == 'deal' and rs[0] == 'into':\n",
    "        return deal_()"
   ]
  },
  {
   "cell_type": "code",
   "execution_count": 11,
   "metadata": {},
   "outputs": [],
   "source": [
    "def apply(t, x, L):\n",
    "    a, b = t\n",
    "    return (a*x + b) % L\n",
    "\n",
    "def compose(t1, t2, L=L):\n",
    "    a, b = t1\n",
    "    c, d = t2\n",
    "    return (a*c % L, (a*d + b) % L)\n",
    "\n",
    "def inverse(x, L=L):\n",
    "    return pow(x,L-2,L)\n",
    "\n",
    "def power(t, p, L):\n",
    "    a, b = t\n",
    "    ap = pow(a, p, L)\n",
    "    d = inverse(a-1, L)\n",
    "    return (ap%L, (ap-1)*(d)*b % L)"
   ]
  },
  {
   "cell_type": "code",
   "execution_count": 12,
   "metadata": {},
   "outputs": [],
   "source": [
    "start = (1,0)\n",
    "for row in rows:\n",
    "    start = compose(start, parse_(row, L), L)"
   ]
  },
  {
   "cell_type": "code",
   "execution_count": 13,
   "metadata": {},
   "outputs": [
    {
     "data": {
      "text/plain": [
       "74132511136410"
      ]
     },
     "execution_count": 13,
     "metadata": {},
     "output_type": "execute_result"
    }
   ],
   "source": [
    "apply(power(start, iterations, L), 2020, L)"
   ]
  }
 ],
 "metadata": {
  "kernelspec": {
   "display_name": "Python 3",
   "language": "python",
   "name": "python3"
  },
  "language_info": {
   "codemirror_mode": {
    "name": "ipython",
    "version": 3
   },
   "file_extension": ".py",
   "mimetype": "text/x-python",
   "name": "python",
   "nbconvert_exporter": "python",
   "pygments_lexer": "ipython3",
   "version": "3.7.5"
  }
 },
 "nbformat": 4,
 "nbformat_minor": 2
}
