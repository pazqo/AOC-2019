{
 "cells": [
  {
   "cell_type": "markdown",
   "metadata": {},
   "source": [
    "# AOC2019 - Day 8\n",
    "\n",
    "Today's challenge: [Day 8](https://adventofcode.com/2019/day/8)\n",
    "\n",
    "Data are manually downloaded into `./data/input_8.txt`"
   ]
  },
  {
   "cell_type": "code",
   "execution_count": 1,
   "metadata": {},
   "outputs": [],
   "source": [
    "with open('./data/input_8.txt') as f:\n",
    "    raw = f.read().strip()"
   ]
  },
  {
   "cell_type": "code",
   "execution_count": 2,
   "metadata": {},
   "outputs": [],
   "source": [
    "from collections import Counter"
   ]
  },
  {
   "cell_type": "code",
   "execution_count": 3,
   "metadata": {},
   "outputs": [],
   "source": [
    "pixels_per_layer = 25*6\n",
    "xs = [raw[i:i+pixels_per_layer] for i in range(0,15000,pixels_per_layer)]"
   ]
  },
  {
   "cell_type": "code",
   "execution_count": 4,
   "metadata": {},
   "outputs": [
    {
     "data": {
      "text/plain": [
       "1690"
      ]
     },
     "execution_count": 4,
     "metadata": {},
     "output_type": "execute_result"
    }
   ],
   "source": [
    "cs = [Counter(x) for x in xs]\n",
    "min_0 = min(cs, key=lambda x: x['0'])\n",
    "min_0['1']*min_0['2']"
   ]
  },
  {
   "cell_type": "code",
   "execution_count": 5,
   "metadata": {},
   "outputs": [],
   "source": [
    "def find_pixel(pixel):\n",
    "    i_0 = pixel.index('0') if '0' in pixel else len(pixel)\n",
    "    i_1 = pixel.index('1') if '1' in pixel else len(pixel)\n",
    "    return pixel[min(i_0, i_1)]"
   ]
  },
  {
   "cell_type": "code",
   "execution_count": 6,
   "metadata": {},
   "outputs": [],
   "source": [
    "image = []\n",
    "for pixel in zip(*xs):\n",
    "    image.append(find_pixel(pixel))"
   ]
  },
  {
   "cell_type": "code",
   "execution_count": 7,
   "metadata": {},
   "outputs": [],
   "source": [
    "image_ = [image[i:i+25] for i in range(0,pixels_per_layer,25)]"
   ]
  },
  {
   "cell_type": "code",
   "execution_count": 8,
   "metadata": {},
   "outputs": [
    {
     "name": "stdout",
     "output_type": "stream",
     "text": [
      "#### ###  #### #  # ###  \n",
      "   # #  #    # #  # #  # \n",
      "  #  #  #   #  #  # ###  \n",
      " #   ###   #   #  # #  # \n",
      "#    #    #    #  # #  # \n",
      "#### #    ####  ##  ###  \n"
     ]
    }
   ],
   "source": [
    "print(\"\\n\".join([\"\".join(row).replace(\"0\",\" \").replace(\"1\",\"#\") for row in image_]))"
   ]
  }
 ],
 "metadata": {
  "kernelspec": {
   "display_name": "Python 3",
   "language": "python",
   "name": "python3"
  },
  "language_info": {
   "codemirror_mode": {
    "name": "ipython",
    "version": 3
   },
   "file_extension": ".py",
   "mimetype": "text/x-python",
   "name": "python",
   "nbconvert_exporter": "python",
   "pygments_lexer": "ipython3",
   "version": "3.7.5"
  }
 },
 "nbformat": 4,
 "nbformat_minor": 2
}
