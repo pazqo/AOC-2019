{
 "cells": [
  {
   "cell_type": "markdown",
   "metadata": {},
   "source": [
    "# AOC2019 - Day 12\n",
    "\n",
    "Today's challenge: [Day 12](https://adventofcode.com/2019/day/12)\n",
    "\n",
    "Data are manually downloaded into `./data/input_12.txt`"
   ]
  },
  {
   "cell_type": "code",
   "execution_count": 1,
   "metadata": {},
   "outputs": [],
   "source": [
    "with open('./data/input_12.txt') as f:\n",
    "    raw = f.read().strip()"
   ]
  },
  {
   "cell_type": "code",
   "execution_count": 2,
   "metadata": {},
   "outputs": [],
   "source": [
    "import re\n",
    "import numpy as np\n",
    "\n",
    "r = re.compile(\"<x=(-?\\d+), y=(-?\\d+), z=(-?\\d+)>\")\n",
    "\n",
    "def parse_body(b):\n",
    "    return np.array([int(x) for x in r.findall(b)[0]])\n",
    "\n",
    "def compute_velocity(ps, vels):\n",
    "    for i in range(4):\n",
    "        vels -= ps[i] < ps\n",
    "        vels += ps[i] > ps\n",
    "    return vels\n",
    "\n",
    "def total_energy(ps, vels):\n",
    "    potential = np.abs(ps).sum(axis=1)\n",
    "    kinetic = np.abs(vels).sum(axis=1)\n",
    "    return (potential*kinetic).sum()"
   ]
  },
  {
   "cell_type": "code",
   "execution_count": 3,
   "metadata": {},
   "outputs": [
    {
     "data": {
      "text/plain": [
       "12644"
      ]
     },
     "execution_count": 3,
     "metadata": {},
     "output_type": "execute_result"
    }
   ],
   "source": [
    "bodies = np.array([parse_body(b) for b in raw.split(\"\\n\")])\n",
    "vels = np.zeros_like(bodies)\n",
    "\n",
    "steps = 1000\n",
    "for k in range(steps):\n",
    "    bodies += compute_velocity(bodies, vels)\n",
    "total_energy(bodies,vels)"
   ]
  },
  {
   "cell_type": "code",
   "execution_count": 4,
   "metadata": {},
   "outputs": [
    {
     "name": "stdout",
     "output_type": "stream",
     "text": [
      "0 84032\n",
      "2 193052\n",
      "1 286332\n"
     ]
    },
    {
     "data": {
      "text/plain": [
       "290314621566528"
      ]
     },
     "execution_count": 4,
     "metadata": {},
     "output_type": "execute_result"
    }
   ],
   "source": [
    "from math import gcd\n",
    "\n",
    "bodies = np.array([parse_body(b) for b in raw.split(\"\\n\")])\n",
    "vels = np.zeros_like(bodies)\n",
    "\n",
    "b0, b1, b2 = np.copy(bodies).T\n",
    "f0, f1, f2 = False, False, False\n",
    "p0, p1, p2 = 0, 0, 0\n",
    "steps = 10000000000\n",
    "for k in range(steps):\n",
    "    bodies += compute_velocity(bodies, vels)\n",
    "    if not f0 and np.all(bodies[:,0] == b0):\n",
    "        p0 = k+2\n",
    "        print(0, k+2)\n",
    "        f0 = True\n",
    "    if not f1 and np.all(bodies[:,1] == b1):\n",
    "        p1 = k+2\n",
    "        print(1, k+2)\n",
    "        f1 = True\n",
    "    if not f2 and np.all(bodies[:,2] == b2):\n",
    "        p2 = k + 2\n",
    "        print(2, k+2)\n",
    "        f2 = True\n",
    "    if f0 and f1 and f2:\n",
    "        p = (p0*p1)//gcd(p0,p1)\n",
    "        p = (p*p2)//gcd(p,p2)\n",
    "        break\n",
    "p"
   ]
  }
 ],
 "metadata": {
  "kernelspec": {
   "display_name": "Python 3",
   "language": "python",
   "name": "python3"
  },
  "language_info": {
   "codemirror_mode": {
    "name": "ipython",
    "version": 3
   },
   "file_extension": ".py",
   "mimetype": "text/x-python",
   "name": "python",
   "nbconvert_exporter": "python",
   "pygments_lexer": "ipython3",
   "version": "3.7.5"
  }
 },
 "nbformat": 4,
 "nbformat_minor": 2
}
