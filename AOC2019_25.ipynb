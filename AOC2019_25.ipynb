{
 "cells": [
  {
   "cell_type": "markdown",
   "metadata": {},
   "source": [
    "# AOC2019 - Day 25\n",
    "\n",
    "Today's challenge: [Day 25](https://adventofcode.com/2019/day/25)\n",
    "\n",
    "Data are manually downloaded into `./data/input_25.txt`"
   ]
  },
  {
   "cell_type": "code",
   "execution_count": 1,
   "metadata": {},
   "outputs": [],
   "source": [
    "from itertools import combinations"
   ]
  },
  {
   "cell_type": "code",
   "execution_count": 2,
   "metadata": {},
   "outputs": [],
   "source": [
    "with open('./data/input_25.txt') as f:\n",
    "    raw = f.read()"
   ]
  },
  {
   "cell_type": "code",
   "execution_count": 3,
   "metadata": {},
   "outputs": [],
   "source": [
    "from Intcode import Intcode\n",
    "\n",
    "data = [int(x) for x in raw.strip().split(\",\")]"
   ]
  },
  {
   "cell_type": "code",
   "execution_count": 4,
   "metadata": {},
   "outputs": [],
   "source": [
    "def command(s, show=True):\n",
    "    if show:\n",
    "        print(s)\n",
    "    for c in s:\n",
    "        p.input(ord(c))\n",
    "    p.input(10)\n",
    "    xs = list(p)\n",
    "    if show:\n",
    "        print(\"\".join([chr(x) for x in xs]))"
   ]
  },
  {
   "cell_type": "code",
   "execution_count": 5,
   "metadata": {},
   "outputs": [
    {
     "name": "stdout",
     "output_type": "stream",
     "text": [
      "east\n",
      "\n",
      "\n",
      "\n",
      "== Security Checkpoint ==\n",
      "In the next room, a pressure-sensitive floor will verify your identity.\n",
      "\n",
      "Doors here lead:\n",
      "- south\n",
      "- west\n",
      "\n",
      "Command?\n",
      "\n"
     ]
    }
   ],
   "source": [
    "p = Intcode(data[:])\n",
    "\n",
    "xs = list(p)\n",
    "\n",
    "debug = False\n",
    "if debug:\n",
    "    print(\"\".join([chr(x) for x in xs]))\n",
    "    \n",
    "commands = [\n",
    "    'take wreath',\n",
    "    'south',\n",
    "    'east',\n",
    "    'take loom',\n",
    "    'east',\n",
    "    'north',\n",
    "    'take spool of cat6',\n",
    "    'north',\n",
    "    'take weather machine',\n",
    "    'south',\n",
    "    'west',\n",
    "    'take shell',\n",
    "    'east',\n",
    "    'south',\n",
    "    'take fixed point',\n",
    "    'west',\n",
    "    'south',\n",
    "    'take ornament',\n",
    "    'east',\n",
    "    'south',\n",
    "    'south', # giant electromagnet\n",
    "    'north',\n",
    "    'east', #infinite loop\n",
    "    'west',\n",
    "    'north',\n",
    "    'west',\n",
    "    'west',\n",
    "    'north',\n",
    "    'take candy cane',\n",
    "    'south',\n",
    "    'east',\n",
    "    'north',\n",
    "    'west',\n",
    "    'north',\n",
    "    'take wreath',\n",
    "    'north',\n",
    "    'south', #Passage!\n",
    "    'south',\n",
    "    'north',\n",
    "    'north',\n",
    "    'east'\n",
    "]\n",
    "for c in commands[:-1]:\n",
    "    command(c, debug)\n",
    "command(commands[-1])"
   ]
  },
  {
   "cell_type": "code",
   "execution_count": 6,
   "metadata": {},
   "outputs": [
    {
     "name": "stdout",
     "output_type": "stream",
     "text": [
      "inv\n",
      "\n",
      "Items in your inventory:\n",
      "- ornament\n",
      "- loom\n",
      "- spool of cat6\n",
      "- wreath\n",
      "- fixed point\n",
      "- shell\n",
      "- candy cane\n",
      "- weather machine\n",
      "\n",
      "Command?\n",
      "\n"
     ]
    }
   ],
   "source": [
    "command('inv')"
   ]
  },
  {
   "cell_type": "code",
   "execution_count": 7,
   "metadata": {
    "scrolled": false
   },
   "outputs": [
    {
     "name": "stdout",
     "output_type": "stream",
     "text": [
      "south\n",
      "\n",
      "\n",
      "\n",
      "== Pressure-Sensitive Floor ==\n",
      "Analyzing...\n",
      "\n",
      "Doors here lead:\n",
      "- north\n",
      "\n",
      "A loud, robotic voice says \"Analysis complete! You may proceed.\" and you enter the cockpit.\n",
      "Santa notices your small droid, looks puzzled for a moment, realizes what has happened, and radios your ship directly.\n",
      "\"Oh, hello! You should be able to get in by typing 352325632 on the keypad at the main airlock.\"\n",
      "\n"
     ]
    }
   ],
   "source": [
    "inv = [\n",
    "    \"ornament\",\n",
    "    \"loom\",\n",
    "    \"spool of cat6\",\n",
    "    \"wreath\",\n",
    "    \"fixed point\",\n",
    "    \"shell\",\n",
    "    \"candy cane\",\n",
    "    \"weather machine\"\n",
    "]\n",
    "\n",
    "for i in inv:\n",
    "    command('drop %s' % i, debug)\n",
    "    \n",
    "for xs in combinations(inv,4):\n",
    "    for x in xs:\n",
    "        command('take %s' % x, debug)\n",
    "    command('south', \",\".join(xs) == 'spool of cat6,fixed point,shell,candy cane') # just for pretty printing\n",
    "    for x in xs:\n",
    "        command('drop %s' % x, debug)"
   ]
  }
 ],
 "metadata": {
  "kernelspec": {
   "display_name": "Python 3",
   "language": "python",
   "name": "python3"
  },
  "language_info": {
   "codemirror_mode": {
    "name": "ipython",
    "version": 3
   },
   "file_extension": ".py",
   "mimetype": "text/x-python",
   "name": "python",
   "nbconvert_exporter": "python",
   "pygments_lexer": "ipython3",
   "version": "3.7.5"
  }
 },
 "nbformat": 4,
 "nbformat_minor": 2
}
