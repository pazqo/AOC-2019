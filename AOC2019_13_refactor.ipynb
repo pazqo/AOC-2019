{
 "cells": [
  {
   "cell_type": "markdown",
   "metadata": {},
   "source": [
    "# AOC2019 - Day 13\n",
    "\n",
    "Today's challenge: [Day 13](https://adventofcode.com/2019/day/13)\n",
    "\n",
    "Data are manually downloaded into `./data/input_13.txt`"
   ]
  },
  {
   "cell_type": "code",
   "execution_count": 1,
   "metadata": {},
   "outputs": [],
   "source": [
    "from Intcode import Intcode"
   ]
  },
  {
   "cell_type": "code",
   "execution_count": 2,
   "metadata": {},
   "outputs": [],
   "source": [
    "with open('./data/input_13.txt') as f:\n",
    "    raw = f.read()"
   ]
  },
  {
   "cell_type": "code",
   "execution_count": 3,
   "metadata": {},
   "outputs": [],
   "source": [
    "class Robot:\n",
    "    def __init__(self, brain):\n",
    "        self.p = brain\n",
    "        self.panel = {}\n",
    "        self.tiles = [' ','|','#','-','O']\n",
    "        self.ball = None\n",
    "        self.score = None\n",
    "        \n",
    "    def tile(self, x, y):\n",
    "        return self.tiles[self.panel[(x,y)]]\n",
    "        \n",
    "    def __repr__(self):\n",
    "        xs, ys = zip(*self.panel.keys())\n",
    "        x0, x1 = min(xs), max(xs)\n",
    "        y0, y1 = min(ys), max(ys)\n",
    "        res = []\n",
    "        for y in range(y0, y1+1):\n",
    "            row = \"\"\n",
    "            for x in range(x0,x1+1):\n",
    "                row += self.tile(x,y)\n",
    "            res.append(row)\n",
    "        res.append(\"Score: %s\" % self.score)\n",
    "        return \"\\n\".join(res)\n",
    "    \n",
    "    def prepare_board(self):\n",
    "        tiles = list(self.p)\n",
    "        T = len(tiles)\n",
    "        for i in range(0,T,3):\n",
    "            x, y, z = tiles[i:i+3]\n",
    "            if x == -1:\n",
    "                self.score = z\n",
    "                continue\n",
    "            self.panel[(x,y)] = z\n",
    "            if z == 4:\n",
    "                self.ball = (x,y)\n",
    "    \n",
    "    def find_ball(self):\n",
    "        x, y = self.ball\n",
    "        tests = [(x-1,y-1), (x-1,y+1), (x+1,y-1), (x+1,y+1)]\n",
    "        for test in tests:\n",
    "            if self.panel[test] == 4:\n",
    "                self.ball = test\n",
    "                break\n",
    "                    \n",
    "    def run(self, xs=[]):\n",
    "        pass"
   ]
  },
  {
   "cell_type": "code",
   "execution_count": 4,
   "metadata": {},
   "outputs": [
    {
     "data": {
      "text/plain": [
       "309"
      ]
     },
     "execution_count": 4,
     "metadata": {},
     "output_type": "execute_result"
    }
   ],
   "source": [
    "data = [int(x) for x in raw.strip().split(\",\")]\n",
    "p = Intcode(data[:])\n",
    "r = Robot(p)\n",
    "r.prepare_board()\n",
    "str(r).count(\"#\")"
   ]
  },
  {
   "cell_type": "code",
   "execution_count": 5,
   "metadata": {},
   "outputs": [],
   "source": [
    "# Part 2!"
   ]
  },
  {
   "cell_type": "code",
   "execution_count": 6,
   "metadata": {},
   "outputs": [],
   "source": [
    "from IPython import display\n",
    "from time import sleep"
   ]
  },
  {
   "cell_type": "code",
   "execution_count": 7,
   "metadata": {},
   "outputs": [],
   "source": [
    "class Robot:\n",
    "    def __init__(self, brain):\n",
    "        self.p = brain\n",
    "        self.panel = {}\n",
    "        self.tiles = [' ','|','#','-','O']\n",
    "        self.ballx = None\n",
    "        self.padx = None\n",
    "        self.score = None\n",
    "        \n",
    "    def tile(self, x, y):\n",
    "        return self.tiles[self.panel[(x,y)]]\n",
    "        \n",
    "    def __repr__(self):\n",
    "        xs, ys = zip(*self.panel.keys())\n",
    "        x0, x1 = min(xs), max(xs)\n",
    "        y0, y1 = min(ys), max(ys)\n",
    "        res = []\n",
    "        for y in range(y0, y1+1):\n",
    "            row = \"\"\n",
    "            for x in range(x0,x1+1):\n",
    "                row += self.tile(x,y)\n",
    "            res.append(row)\n",
    "        res.append(\"Score: %s\" % self.score)\n",
    "        return \"\\n\".join(res)\n",
    "    \n",
    "    def prepare_board(self):\n",
    "        tiles = list(self.p)\n",
    "        self.update_board(tiles)\n",
    "                \n",
    "    def update_board(self, tiles=[]):\n",
    "        T = len(tiles)\n",
    "        for i in range(0,T,3):\n",
    "            x, y, z = tiles[i:i+3]\n",
    "            if x == -1:\n",
    "                self.score = z\n",
    "                continue\n",
    "            self.panel[(x,y)] = z\n",
    "            if z == 4:\n",
    "                self.ballx = x\n",
    "            if z == 3:\n",
    "                self.padx = x\n",
    "    \n",
    "    def find_ball(self):\n",
    "        x, y = self.ball\n",
    "        tests = [(x-1,y-1), (x-1,y+1), (x+1,y-1), (x+1,y+1)]\n",
    "        for test in tests:\n",
    "            if self.panel[test] == 4:\n",
    "                self.ball = test\n",
    "                break\n",
    "                \n",
    "    def run(self, s=1):\n",
    "        while 2 in self.panel.values():\n",
    "            if self.padx > self.ballx:\n",
    "                i = -1 \n",
    "            elif self.padx < self.ballx:\n",
    "                i = 1\n",
    "            else:\n",
    "                i = 0\n",
    "            updates = list(self.p.input(i))\n",
    "            display.clear_output(wait=True)\n",
    "            self.update_board(updates)\n",
    "            print(self)\n",
    "            sleep(s)"
   ]
  },
  {
   "cell_type": "code",
   "execution_count": 8,
   "metadata": {},
   "outputs": [],
   "source": [
    "data = [int(x) for x in raw.strip().split(\",\")]\n",
    "data_ = data[:]\n",
    "data_[0] = 2\n",
    "p = Intcode(data_[:])\n",
    "r = Robot(p)\n",
    "r.prepare_board()"
   ]
  },
  {
   "cell_type": "code",
   "execution_count": 9,
   "metadata": {
    "scrolled": false
   },
   "outputs": [
    {
     "name": "stdout",
     "output_type": "stream",
     "text": [
      "|||||||||||||||||||||||||||||||||||\n",
      "|                                 |\n",
      "|                                 |\n",
      "|                                 |\n",
      "|                                 |\n",
      "|                                 |\n",
      "|                                 |\n",
      "|                                 |\n",
      "|                                 |\n",
      "|                                 |\n",
      "|            O                    |\n",
      "|                                 |\n",
      "|                                 |\n",
      "|                                 |\n",
      "|                                 |\n",
      "|                                 |\n",
      "|                                 |\n",
      "|                                 |\n",
      "|                                 |\n",
      "|                                 |\n",
      "|                                 |\n",
      "|                                 |\n",
      "|                                 |\n",
      "|            -                    |\n",
      "|                                 |\n",
      "Score: 15410\n"
     ]
    }
   ],
   "source": [
    "r.run(0.005)"
   ]
  }
 ],
 "metadata": {
  "kernelspec": {
   "display_name": "Python 3",
   "language": "python",
   "name": "python3"
  },
  "language_info": {
   "codemirror_mode": {
    "name": "ipython",
    "version": 3
   },
   "file_extension": ".py",
   "mimetype": "text/x-python",
   "name": "python",
   "nbconvert_exporter": "python",
   "pygments_lexer": "ipython3",
   "version": "3.7.5"
  }
 },
 "nbformat": 4,
 "nbformat_minor": 2
}
