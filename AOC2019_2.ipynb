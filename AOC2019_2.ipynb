{
 "cells": [
  {
   "cell_type": "markdown",
   "metadata": {},
   "source": [
    "# AOC2019 - Day 2\n",
    "\n",
    "Today's challenge: [Day 2](https://adventofcode.com/2019/day/2)\n",
    "\n",
    "Data are manually downloaded into `./data/input_2.txt`"
   ]
  },
  {
   "cell_type": "code",
   "execution_count": 1,
   "metadata": {},
   "outputs": [],
   "source": [
    "with open('./data/input_2.txt') as f:\n",
    "    raw = f.read()\n",
    "    data = [int(x) for x in raw.strip().split(\",\")]"
   ]
  },
  {
   "cell_type": "code",
   "execution_count": 2,
   "metadata": {},
   "outputs": [],
   "source": [
    "data_ = data[:]\n",
    "data_[1] = 12\n",
    "data_[2] = 2"
   ]
  },
  {
   "cell_type": "code",
   "execution_count": 3,
   "metadata": {},
   "outputs": [],
   "source": [
    "def add(xs, a, b, c):\n",
    "    A = xs[a]\n",
    "    B = xs[b]\n",
    "    xs[c] = A + B\n",
    "\n",
    "def mult(xs, a, b, c):\n",
    "    A = xs[a]\n",
    "    B = xs[b]\n",
    "    xs[c] = A*B"
   ]
  },
  {
   "cell_type": "code",
   "execution_count": 4,
   "metadata": {},
   "outputs": [
    {
     "name": "stdout",
     "output_type": "stream",
     "text": [
      "WTF\n"
     ]
    },
    {
     "data": {
      "text/plain": [
       "3790645"
      ]
     },
     "execution_count": 4,
     "metadata": {},
     "output_type": "execute_result"
    }
   ],
   "source": [
    "i, op = 0, data_[0]\n",
    "while op != 99:\n",
    "    op, i1, i2, i3 = data_[i:i+4]\n",
    "    if op == 1:\n",
    "        add(data_, i1, i2, i3)\n",
    "    elif op == 2:\n",
    "        mult(data_, i1, i2, i3)\n",
    "    else:\n",
    "        print(\"WTF\")\n",
    "        break\n",
    "    i += 4\n",
    "data_[0]"
   ]
  },
  {
   "cell_type": "code",
   "execution_count": 5,
   "metadata": {},
   "outputs": [],
   "source": [
    "def test(data, i1, i2):\n",
    "    data_ = data[:]\n",
    "    data_[1] = i1\n",
    "    data_[2] = i2\n",
    "    i, op = 0, data_[0]\n",
    "    while op != 99:\n",
    "        op, i1, i2, i3 = data_[i:i+4]\n",
    "        if op == 1:\n",
    "            add(data_, i1, i2, i3)\n",
    "        elif op == 2:\n",
    "            mult(data_, i1, i2, i3)\n",
    "        else:\n",
    "            print(\"WTF\")\n",
    "            break\n",
    "        i += 4\n",
    "    return data_[0]"
   ]
  },
  {
   "cell_type": "code",
   "execution_count": 6,
   "metadata": {},
   "outputs": [
    {
     "name": "stdout",
     "output_type": "stream",
     "text": [
      "WTF\n"
     ]
    },
    {
     "data": {
      "text/plain": [
       "4390675"
      ]
     },
     "execution_count": 6,
     "metadata": {},
     "output_type": "execute_result"
    }
   ],
   "source": [
    "test(data, 14, 32)"
   ]
  },
  {
   "cell_type": "code",
   "execution_count": 7,
   "metadata": {},
   "outputs": [],
   "source": [
    "def test1(i1, i2):\n",
    "    return 190643 + 300000*i1 + i2"
   ]
  },
  {
   "cell_type": "code",
   "execution_count": 8,
   "metadata": {},
   "outputs": [
    {
     "data": {
      "text/plain": [
       "19690720"
      ]
     },
     "execution_count": 8,
     "metadata": {},
     "output_type": "execute_result"
    }
   ],
   "source": [
    "test1(65,77)"
   ]
  },
  {
   "cell_type": "code",
   "execution_count": 9,
   "metadata": {},
   "outputs": [
    {
     "data": {
      "text/plain": [
       "6577"
      ]
     },
     "execution_count": 9,
     "metadata": {},
     "output_type": "execute_result"
    }
   ],
   "source": [
    "100*65+77"
   ]
  }
 ],
 "metadata": {
  "kernelspec": {
   "display_name": "Python 3",
   "language": "python",
   "name": "python3"
  },
  "language_info": {
   "codemirror_mode": {
    "name": "ipython",
    "version": 3
   },
   "file_extension": ".py",
   "mimetype": "text/x-python",
   "name": "python",
   "nbconvert_exporter": "python",
   "pygments_lexer": "ipython3",
   "version": "3.7.5"
  }
 },
 "nbformat": 4,
 "nbformat_minor": 2
}
