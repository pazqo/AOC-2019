{
 "cells": [
  {
   "cell_type": "markdown",
   "metadata": {},
   "source": [
    "# AOC2019 - Day 10\n",
    "\n",
    "Today's challenge: [Day 10](https://adventofcode.com/2019/day/10)\n",
    "\n",
    "Data are manually downloaded into `./data/input_10.txt`"
   ]
  },
  {
   "cell_type": "code",
   "execution_count": 1,
   "metadata": {},
   "outputs": [],
   "source": [
    "with open('./data/input_10.txt') as f:\n",
    "    raw = f.read()"
   ]
  },
  {
   "cell_type": "raw",
   "metadata": {},
   "source": [
    "raw = \"\"\"\n",
    ".#..##.###...#######\n",
    "##.############..##.\n",
    ".#.######.########.#\n",
    ".###.#######.####.#.\n",
    "#####.##.#.##.###.##\n",
    "..#####..#.#########\n",
    "####################\n",
    "#.####....###.#.#.##\n",
    "##.#################\n",
    "#####.##.###..####..\n",
    "..######..##.#######\n",
    "####.##.####...##..#\n",
    ".#####..#.######.###\n",
    "##...#.##########...\n",
    "#.##########.#######\n",
    ".####.#.###.###.#.##\n",
    "....##.##.###..#####\n",
    ".#.#.###########.###\n",
    "#.#.#.#####.####.###\n",
    "###.##.####.##.#..##\n",
    "\"\"\".strip()"
   ]
  },
  {
   "cell_type": "code",
   "execution_count": 2,
   "metadata": {},
   "outputs": [],
   "source": [
    "rows = raw.split(\"\\n\")\n",
    "asteroids = []\n",
    "for i, row in enumerate(rows):\n",
    "    for j, c in enumerate(row):\n",
    "        if c == '#':\n",
    "            asteroids.append((j,i))"
   ]
  },
  {
   "cell_type": "code",
   "execution_count": 3,
   "metadata": {},
   "outputs": [],
   "source": [
    "from math import gcd\n",
    "from collections import defaultdict\n",
    "\n",
    "def reduce(p,q):\n",
    "    if q == 0:\n",
    "        return (p//abs(p),0)\n",
    "    elif p == 0:\n",
    "        return (0,q//abs(q))\n",
    "    else:\n",
    "        m = gcd(p,q)\n",
    "        return (p//m, q//m)"
   ]
  },
  {
   "cell_type": "code",
   "execution_count": 4,
   "metadata": {},
   "outputs": [],
   "source": [
    "def find_angles(x0, xs):\n",
    "    angles = defaultdict(list)\n",
    "    for x in xs:\n",
    "        if x != x0:\n",
    "            p = x[0] - x0[0]\n",
    "            q = x[1] - x0[1]\n",
    "            angles[reduce(p,q)].append((p,q))\n",
    "    return angles, x0"
   ]
  },
  {
   "cell_type": "code",
   "execution_count": 5,
   "metadata": {},
   "outputs": [],
   "source": [
    "res = max([find_angles(x, asteroids) for x in asteroids], key=lambda x: len(x[0]))"
   ]
  },
  {
   "cell_type": "code",
   "execution_count": 6,
   "metadata": {},
   "outputs": [],
   "source": [
    "m, (x0,y0) = res"
   ]
  },
  {
   "cell_type": "code",
   "execution_count": 7,
   "metadata": {},
   "outputs": [],
   "source": [
    "angles_right = [(y/x, (x+x0,y+y0),xs) for (x,y), xs in m.items() if x > 0]\n",
    "angles_left  = [(y/x, (x+x0,y+y0),xs) for (x,y), xs in m.items() if x < 0]\n",
    "vert_up   = [(x0,y0-1), m[(0,-1)]]\n",
    "vert_down = [(x0,y0+1), m[(0,1)]]"
   ]
  },
  {
   "cell_type": "code",
   "execution_count": 8,
   "metadata": {},
   "outputs": [],
   "source": [
    "dest_list = vert_up + sorted(angles_right) + vert_down + sorted(angles_left, reverse=False)"
   ]
  },
  {
   "cell_type": "code",
   "execution_count": 9,
   "metadata": {},
   "outputs": [
    {
     "data": {
      "text/plain": [
       "1513"
      ]
     },
     "execution_count": 9,
     "metadata": {},
     "output_type": "execute_result"
    }
   ],
   "source": [
    "x, y = dest_list[201][2][1]\n",
    "100*(x+x0) + y+y0"
   ]
  }
 ],
 "metadata": {
  "kernelspec": {
   "display_name": "Python 3",
   "language": "python",
   "name": "python3"
  },
  "language_info": {
   "codemirror_mode": {
    "name": "ipython",
    "version": 3
   },
   "file_extension": ".py",
   "mimetype": "text/x-python",
   "name": "python",
   "nbconvert_exporter": "python",
   "pygments_lexer": "ipython3",
   "version": "3.7.5"
  }
 },
 "nbformat": 4,
 "nbformat_minor": 2
}
