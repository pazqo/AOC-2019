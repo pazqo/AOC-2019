{
 "cells": [
  {
   "cell_type": "markdown",
   "metadata": {},
   "source": [
    "# AOC2019 - Day 5\n",
    "\n",
    "Today's challenge: [Day 5](https://adventofcode.com/2019/day/5)\n",
    "\n",
    "Data are manually downloaded into `./data/input_5.txt`"
   ]
  },
  {
   "cell_type": "code",
   "execution_count": 1,
   "metadata": {},
   "outputs": [],
   "source": [
    "with open('./data/input_5.txt') as f:\n",
    "    raw = f.read()\n",
    "    data = [int(x) for x in raw.strip().split(\",\")]"
   ]
  },
  {
   "cell_type": "code",
   "execution_count": 2,
   "metadata": {},
   "outputs": [],
   "source": [
    "class Intcode:\n",
    "    def __init__(self, xs, pos=0, i=None):\n",
    "        self.xs = xs\n",
    "        self.pos = pos\n",
    "        self.i = i\n",
    "        \n",
    "    def display(self):\n",
    "        return dict(enumerate(self.xs))\n",
    "    \n",
    "    @staticmethod\n",
    "    def parse_op(x):\n",
    "        params, op = divmod(x, 100)\n",
    "        params, p1 = divmod(params, 10)\n",
    "        p2 = params % 10\n",
    "        return op, p1, p2\n",
    "    \n",
    "    def op1(self,i1,i2,out,ps):\n",
    "        p1, p2 = ps\n",
    "        i1_ = i1 if p1 == 1 else self.xs[i1]\n",
    "        i2_ = i2 if p2 == 1 else self.xs[i2]\n",
    "        self.xs[out] = i1_ + i2_\n",
    "        return 4\n",
    "    \n",
    "    def op2(self,i1,i2,out,ps):\n",
    "        p1, p2 = ps\n",
    "        i1_ = i1 if p1 == 1 else self.xs[i1]\n",
    "        i2_ = i2 if p2 == 1 else self.xs[i2]\n",
    "        self.xs[out] = i1_ * i2_\n",
    "        return 4\n",
    "\n",
    "    def op3(self,x,i,pi):\n",
    "        self.xs[i] = x\n",
    "        return 2\n",
    "\n",
    "    def op4(self,i,pi):\n",
    "        print(\"Output: \", self.xs[i])\n",
    "        return 2\n",
    "    \n",
    "    def op5(self,i,out,ps):\n",
    "        pi, pout = ps\n",
    "        i_ = i if pi == 1 else self.xs[i]\n",
    "        out_ = out if pout == 1 else self.xs[out]\n",
    "        if i_ != 0:\n",
    "            self.pos = out_\n",
    "            return 0\n",
    "        return 3\n",
    "    \n",
    "    def op6(self,i,out,ps):\n",
    "        pi, pout = ps\n",
    "        i_ = i if pi == 1 else self.xs[i]\n",
    "        out_ = out if pout == 1 else self.xs[out]\n",
    "        if i_ == 0:\n",
    "            self.pos = out_\n",
    "            return 0\n",
    "        return 3\n",
    "    \n",
    "    def op7(self,i1,i2,out,ps):\n",
    "        p1, p2 = ps\n",
    "        i1_ = i1 if p1 == 1 else self.xs[i1]\n",
    "        i2_ = i2 if p2 == 1 else self.xs[i2]\n",
    "        self.xs[out] = 1 if i1_ < i2_ else 0\n",
    "        return 4\n",
    "    \n",
    "    def op8(self,i1,i2,out,ps):\n",
    "        p1, p2 = ps\n",
    "        i1_ = i1 if p1 == 1 else self.xs[i1]\n",
    "        i2_ = i2 if p2 == 1 else self.xs[i2]\n",
    "        self.xs[out] = 1 if i1_ == i2_ else 0\n",
    "        return 4\n",
    "    \n",
    "    def op99(self):\n",
    "        return 0\n",
    "\n",
    "    def run(self, x):\n",
    "        while True:\n",
    "            op, *params = self.parse_op(self.xs[self.pos])\n",
    "            #print(\"next step:\", op, params, self.pos)\n",
    "            if op%100 == 1:\n",
    "                i1, i2, out = self.xs[self.pos+1:self.pos+4]\n",
    "                self.pos += self.op1(i1, i2, out, params)\n",
    "            elif op%100 == 2:\n",
    "                i1, i2, out = self.xs[self.pos+1:self.pos+4]\n",
    "                self.pos += self.op2(i1, i2, out, params)\n",
    "            elif op%100 == 3:\n",
    "                i = self.xs[self.pos+1]\n",
    "                self.pos += self.op3(x, i, params)\n",
    "            elif op%100 == 4:\n",
    "                i = self.xs[self.pos+1]\n",
    "                self.pos += self.op4(i, params)\n",
    "            elif op%100 == 5:\n",
    "                i, out = self.xs[self.pos+1:self.pos+3]\n",
    "                step = self.op5(i, out, params)\n",
    "                self.pos += step\n",
    "            elif op%100 == 6:\n",
    "                i, out = self.xs[self.pos+1:self.pos+3]\n",
    "                step = self.op6(i, out, params)\n",
    "                self.pos += step\n",
    "            elif op%100 == 7:\n",
    "                i1, i2, out = self.xs[self.pos+1:self.pos+4]\n",
    "                self.pos += self.op7(i1, i2, out, params)\n",
    "            elif op%100 == 8:\n",
    "                i1, i2, out = self.xs[self.pos+1:self.pos+4]\n",
    "                self.pos += self.op8(i1, i2, out, params)\n",
    "            elif op%100 == 99:\n",
    "                self.op99()\n",
    "                break\n",
    "            else:\n",
    "                print(\"invalid instruction!\", op)\n",
    "                break"
   ]
  },
  {
   "cell_type": "code",
   "execution_count": 3,
   "metadata": {},
   "outputs": [
    {
     "name": "stdout",
     "output_type": "stream",
     "text": [
      "Output:  3\n",
      "Output:  0\n",
      "Output:  0\n",
      "Output:  0\n",
      "Output:  0\n",
      "Output:  0\n",
      "Output:  0\n",
      "Output:  0\n",
      "Output:  0\n",
      "Output:  9938601\n"
     ]
    }
   ],
   "source": [
    "program = Intcode(data[:])\n",
    "program.run(1)"
   ]
  },
  {
   "cell_type": "code",
   "execution_count": 4,
   "metadata": {},
   "outputs": [
    {
     "name": "stdout",
     "output_type": "stream",
     "text": [
      "Output:  4283952\n"
     ]
    }
   ],
   "source": [
    "program = Intcode(data[:])\n",
    "program.run(5)"
   ]
  }
 ],
 "metadata": {
  "kernelspec": {
   "display_name": "Python 3",
   "language": "python",
   "name": "python3"
  },
  "language_info": {
   "codemirror_mode": {
    "name": "ipython",
    "version": 3
   },
   "file_extension": ".py",
   "mimetype": "text/x-python",
   "name": "python",
   "nbconvert_exporter": "python",
   "pygments_lexer": "ipython3",
   "version": "3.7.5"
  }
 },
 "nbformat": 4,
 "nbformat_minor": 2
}
