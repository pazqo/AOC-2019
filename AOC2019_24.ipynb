{
 "cells": [
  {
   "cell_type": "markdown",
   "metadata": {},
   "source": [
    "# AOC2019 - Day 24\n",
    "\n",
    "Today's challenge: [Day 24](https://adventofcode.com/2019/day/24)\n",
    "\n",
    "Data are manually downloaded into `./data/input_24.txt`"
   ]
  },
  {
   "cell_type": "code",
   "execution_count": 1,
   "metadata": {},
   "outputs": [],
   "source": [
    "with open('./data/input_24.txt') as f:\n",
    "    raw = f.read()\n",
    "    \n",
    "rows = raw.split('\\n')"
   ]
  },
  {
   "cell_type": "code",
   "execution_count": 2,
   "metadata": {},
   "outputs": [],
   "source": [
    "from collections import defaultdict\n",
    "\n",
    "from IPython import display\n",
    "from time import sleep"
   ]
  },
  {
   "cell_type": "code",
   "execution_count": 3,
   "metadata": {},
   "outputs": [],
   "source": [
    "class GameOfLife:\n",
    "    def __init__(self, rows):\n",
    "        self.panel = defaultdict(lambda: '.')\n",
    "        for y, row in enumerate(rows):\n",
    "            for x, c in enumerate(row):\n",
    "                if c == '#':\n",
    "                    self.panel[(x,y)] = '#'\n",
    "                else:\n",
    "                    self.panel[(x,y)] = '.'\n",
    "        self.previous = set([str(self)])\n",
    "        self.ds = [(1,0),(0,1),(-1,0),(0,-1)]\n",
    "        \n",
    "    def __repr__(self):\n",
    "        res = \"\"\n",
    "        for j in range(5):\n",
    "            for i in range(5):\n",
    "                res += self.panel[(i,j)]\n",
    "            res += '\\n'\n",
    "        return res\n",
    "    \n",
    "    def score(self):\n",
    "        res = 0\n",
    "        for y in range(5):\n",
    "            for x in range(5):\n",
    "                if self.panel[(x,y)] == '#':\n",
    "                    res += pow(2, 5*y+x)\n",
    "        return res\n",
    "    \n",
    "    def nbs(self, x, y):\n",
    "        return [(x+dx, y+dy) for dx, dy in self.ds]\n",
    "    \n",
    "    def count_sharp(self, x, y):\n",
    "        return sum(self.panel[p] == '#' for p in self.nbs(x, y))\n",
    "    \n",
    "    def evolve(self):\n",
    "        new_panel = defaultdict(lambda:'.')\n",
    "        for i in range(5):\n",
    "            for j in range(5):\n",
    "                nbs = self.nbs(i,j)\n",
    "                if self.panel[(i,j)] == '#':\n",
    "                    new_panel[(i,j)] = '#' if self.count_sharp(i,j) == 1  else '.'\n",
    "                if self.panel[(i,j)] == '.':\n",
    "                    new_panel[(i,j)] = '#' if self.count_sharp(i,j) in [1,2] else '.'\n",
    "        self.panel = new_panel\n",
    "        if str(self) in self.previous:\n",
    "            print(self)\n",
    "            return False\n",
    "        else:\n",
    "            self.previous.add(str(self))\n",
    "            return True"
   ]
  },
  {
   "cell_type": "code",
   "execution_count": 4,
   "metadata": {
    "scrolled": false
   },
   "outputs": [
    {
     "name": "stdout",
     "output_type": "stream",
     "text": [
      "##.##\n",
      ".###.\n",
      ".#...\n",
      ".#..#\n",
      "##.##\n",
      "\n"
     ]
    },
    {
     "data": {
      "text/plain": [
       "28903899"
      ]
     },
     "execution_count": 4,
     "metadata": {},
     "output_type": "execute_result"
    }
   ],
   "source": [
    "gol = GameOfLife(rows)\n",
    "while gol.evolve():\n",
    "    print(gol)\n",
    "    display.clear_output(wait=True)\n",
    "    sleep(0.1)\n",
    "gol.score()"
   ]
  },
  {
   "cell_type": "code",
   "execution_count": 5,
   "metadata": {},
   "outputs": [],
   "source": [
    "class GameOfLifeRecursive:\n",
    "    def __init__(self, rows):\n",
    "        self.panel = defaultdict(lambda: '.')\n",
    "        for y, row in enumerate(rows):\n",
    "            for x, c in enumerate(row):\n",
    "                if c == '#':\n",
    "                    self.panel[(0,x,y)] = '#'\n",
    "                else:\n",
    "                    self.panel[(0,x,y)] = '.'\n",
    "        self.min_layer = 0\n",
    "        self.max_layer = 0\n",
    "        self.ds = [(1,0),(0,1),(-1,0),(0,-1)]\n",
    "        \n",
    "    def __repr__(self):\n",
    "        res = \"\"\n",
    "        for l in range(self.min_layer, self.max_layer + 1):\n",
    "            layer = \"layer %s\\n\" % l\n",
    "            for j in range(5):\n",
    "                for i in range(5):\n",
    "                    if (i, j) == (2,2):\n",
    "                        layer += '?'\n",
    "                    else:\n",
    "                        layer += self.panel[(l,i,j)]\n",
    "                layer += '\\n'\n",
    "            if '#' in layer:\n",
    "                res += layer + \"\\n\"\n",
    "        return res\n",
    "    \n",
    "    def nbs(self, l, x, y):\n",
    "        res = []\n",
    "        for dx, dy in self.ds:\n",
    "            if (x+dx, y+dy) == (2,2):\n",
    "                res += [(l+1, *p) for p in self.side(dx,dy)]\n",
    "            elif x + dx < 0:\n",
    "                res += [(l-1, 1, 2)]\n",
    "            elif x + dx > 4:\n",
    "                res += [(l-1, 3, 2)]\n",
    "            elif y + dy < 0:\n",
    "                res += [(l-1, 2, 1)]\n",
    "            elif y + dy > 4:\n",
    "                res += [(l-1, 2, 3)]\n",
    "            else:\n",
    "                res.append((l, x+dx, y+dy))\n",
    "        return res\n",
    "    \n",
    "    def count_sharp(self, l, x, y):\n",
    "        return sum(self.panel[p] == '#' for p in self.nbs(l, x, y))\n",
    "    \n",
    "    @staticmethod\n",
    "    def side(x,y):\n",
    "        if x == 1:\n",
    "            return [(0,i) for i in range(5)]\n",
    "        elif x == -1:\n",
    "            return [(4,i) for i in range(5)]\n",
    "        elif y == 1:\n",
    "            return [(i,0) for i in range(5)]\n",
    "        elif y == -1:\n",
    "            return [(i,4) for i in range(5)]\n",
    "        else:\n",
    "            print(\"WTF\", x,y)\n",
    "            \n",
    "    def evolve(self):\n",
    "        new_panel = defaultdict(lambda:'.')\n",
    "        for l in range(self.min_layer-1, self.max_layer+2):\n",
    "            for i in range(5):\n",
    "                for j in range(5):\n",
    "                    if (i, j) == (2,2):\n",
    "                        continue\n",
    "                    nbs = self.nbs(l,i,j)\n",
    "                    if self.panel[(l,i,j)] == '#':\n",
    "                        new_panel[(l,i,j)] = '#' if self.count_sharp(l,i,j) == 1  else '.'\n",
    "                    if self.panel[(l,i,j)] == '.':\n",
    "                        new_panel[(l,i,j)] = '#' if self.count_sharp(l,i,j) in [1,2] else '.'\n",
    "        self.min_layer -= 1\n",
    "        self.max_layer += 1\n",
    "        self.panel = new_panel\n",
    "        return self"
   ]
  },
  {
   "cell_type": "code",
   "execution_count": 6,
   "metadata": {
    "scrolled": false
   },
   "outputs": [],
   "source": [
    "gol = GameOfLifeRecursive(rows)\n",
    "for _ in range(200):\n",
    "    gol.evolve()"
   ]
  },
  {
   "cell_type": "code",
   "execution_count": 7,
   "metadata": {},
   "outputs": [
    {
     "data": {
      "text/plain": [
       "1896"
      ]
     },
     "execution_count": 7,
     "metadata": {},
     "output_type": "execute_result"
    }
   ],
   "source": [
    "sum([1 for x in gol.panel.values() if x == '#'])"
   ]
  }
 ],
 "metadata": {
  "kernelspec": {
   "display_name": "Python 3",
   "language": "python",
   "name": "python3"
  },
  "language_info": {
   "codemirror_mode": {
    "name": "ipython",
    "version": 3
   },
   "file_extension": ".py",
   "mimetype": "text/x-python",
   "name": "python",
   "nbconvert_exporter": "python",
   "pygments_lexer": "ipython3",
   "version": "3.7.5"
  }
 },
 "nbformat": 4,
 "nbformat_minor": 2
}
