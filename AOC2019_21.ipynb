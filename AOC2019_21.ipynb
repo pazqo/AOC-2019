{
 "cells": [
  {
   "cell_type": "markdown",
   "metadata": {},
   "source": [
    "# AOC2019 - Day 21\n",
    "\n",
    "Today's challenge: [Day 21](https://adventofcode.com/2019/day/21)\n",
    "\n",
    "Data are manually downloaded into `./data/input_21.txt`"
   ]
  },
  {
   "cell_type": "code",
   "execution_count": 1,
   "metadata": {},
   "outputs": [],
   "source": [
    "with open('./data/input_21.txt') as f:\n",
    "    raw = f.read()"
   ]
  },
  {
   "cell_type": "code",
   "execution_count": 2,
   "metadata": {},
   "outputs": [],
   "source": [
    "from Intcode import Intcode\n",
    "\n",
    "data = [int(x) for x in raw.strip().split(\",\")]"
   ]
  },
  {
   "cell_type": "code",
   "execution_count": 3,
   "metadata": {},
   "outputs": [],
   "source": [
    "class Robot:\n",
    "    def __init__(self, p):\n",
    "        self.p = p\n",
    "        print(\"\".join(chr(x) for x in list(self.p)))\n",
    "    \n",
    "    def run(self, program):\n",
    "        [self.p.input(ord(x)) for x in program]\n",
    "        res = list(self.p)\n",
    "        return res"
   ]
  },
  {
   "cell_type": "code",
   "execution_count": 4,
   "metadata": {},
   "outputs": [
    {
     "name": "stdout",
     "output_type": "stream",
     "text": [
      "Input instructions:\n",
      "\n",
      "\n",
      "Walking...\n",
      "\n",
      "\n"
     ]
    },
    {
     "data": {
      "text/plain": [
       "19359533"
      ]
     },
     "execution_count": 4,
     "metadata": {},
     "output_type": "execute_result"
    }
   ],
   "source": [
    "p = Intcode(data[:])\n",
    "r = Robot(p)\n",
    "\n",
    "# Jump if there's an hole, but do not jump if the hole is in 4\n",
    "program = \"\"\"NOT C J\n",
    "NOT B T\n",
    "OR T J\n",
    "NOT A T\n",
    "OR T J\n",
    "AND D J\n",
    "WALK\n",
    "\"\"\"\n",
    "res = r.run(program)\n",
    "print(\"\".join(chr(x) for x in res[:-1]))\n",
    "res[-1]"
   ]
  },
  {
   "cell_type": "code",
   "execution_count": 5,
   "metadata": {},
   "outputs": [
    {
     "name": "stdout",
     "output_type": "stream",
     "text": [
      "Input instructions:\n",
      "\n",
      "\n",
      "Running...\n",
      "\n",
      "\n"
     ]
    },
    {
     "data": {
      "text/plain": [
       "1140310551"
      ]
     },
     "execution_count": 5,
     "metadata": {},
     "output_type": "execute_result"
    }
   ],
   "source": [
    "p = Intcode(data[:])\n",
    "r = Robot(p)\n",
    "\n",
    "# Jump if there's an hole, but do not jump if the hole is in 5 (E) or 8 (H)\n",
    "program = \"\"\"OR A J\n",
    "AND B J\n",
    "AND C J\n",
    "NOT J J\n",
    "AND D J\n",
    "OR E T\n",
    "OR H T\n",
    "AND T J\n",
    "RUN\n",
    "\"\"\"\n",
    "res = r.run(program)\n",
    "print(\"\".join(chr(x) for x in res[:-1]))\n",
    "res[-1]"
   ]
  }
 ],
 "metadata": {
  "kernelspec": {
   "display_name": "Python 3",
   "language": "python",
   "name": "python3"
  },
  "language_info": {
   "codemirror_mode": {
    "name": "ipython",
    "version": 3
   },
   "file_extension": ".py",
   "mimetype": "text/x-python",
   "name": "python",
   "nbconvert_exporter": "python",
   "pygments_lexer": "ipython3",
   "version": "3.7.5"
  }
 },
 "nbformat": 4,
 "nbformat_minor": 2
}
