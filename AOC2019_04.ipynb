{
 "cells": [
  {
   "cell_type": "markdown",
   "metadata": {},
   "source": [
    "# AOC2019 - Day 4\n",
    "\n",
    "Today's challenge: [Day 4](https://adventofcode.com/2019/day/4)\n",
    "\n",
    "Data are manually downloaded into `./data/input_4.txt`"
   ]
  },
  {
   "cell_type": "code",
   "execution_count": 1,
   "metadata": {},
   "outputs": [],
   "source": [
    "with open('./data/input_4.txt') as f:\n",
    "    raw = f.read().strip()"
   ]
  },
  {
   "cell_type": "code",
   "execution_count": 2,
   "metadata": {},
   "outputs": [],
   "source": [
    "start, stop = [int(x) for x in raw.split(\"-\")]"
   ]
  },
  {
   "cell_type": "code",
   "execution_count": 3,
   "metadata": {},
   "outputs": [],
   "source": [
    "def are_two_adjacent_equal(x):\n",
    "    x_ = str(x)\n",
    "    for x0, x1 in zip(x_, x_[1:]):\n",
    "        if x0 == x1:\n",
    "            return True\n",
    "    return False\n",
    "\n",
    "def no_three_adjacent_equal(x):\n",
    "    x_ = str(x)\n",
    "    for x0, x1, x2 in zip(x_, x_[1:], x_[2:]):\n",
    "        if x0 == x1 and x1 == x2:\n",
    "            return False\n",
    "    return True\n",
    "\n",
    "def are_increasing(x):\n",
    "    x_ = str(x)\n",
    "    for x0, x1 in zip(x_, x_[1:]):\n",
    "        if x0 > x1:\n",
    "            return False\n",
    "    return True"
   ]
  },
  {
   "cell_type": "code",
   "execution_count": 4,
   "metadata": {},
   "outputs": [
    {
     "data": {
      "text/plain": [
       "(367479, 893698)"
      ]
     },
     "execution_count": 4,
     "metadata": {},
     "output_type": "execute_result"
    }
   ],
   "source": [
    "start, stop"
   ]
  },
  {
   "cell_type": "code",
   "execution_count": 5,
   "metadata": {},
   "outputs": [
    {
     "data": {
      "text/plain": [
       "495"
      ]
     },
     "execution_count": 5,
     "metadata": {},
     "output_type": "execute_result"
    }
   ],
   "source": [
    "ok_pass = []\n",
    "for x in range(start, stop):\n",
    "    if (are_two_adjacent_equal(x) & are_increasing(x)):\n",
    "        ok_pass.append(x)\n",
    "len(ok_pass)"
   ]
  },
  {
   "cell_type": "code",
   "execution_count": 6,
   "metadata": {},
   "outputs": [],
   "source": [
    "from collections import Counter\n",
    "\n",
    "def are_two_equal(x):\n",
    "    c = Counter(str(x))\n",
    "    return 2 in set(c.values())"
   ]
  },
  {
   "cell_type": "code",
   "execution_count": 7,
   "metadata": {},
   "outputs": [
    {
     "data": {
      "text/plain": [
       "305"
      ]
     },
     "execution_count": 7,
     "metadata": {},
     "output_type": "execute_result"
    }
   ],
   "source": [
    "ok_pass_2 = []\n",
    "for x in range(start, stop):\n",
    "    if (are_increasing(x) & are_two_equal(x)):\n",
    "        ok_pass_2.append(x)\n",
    "len(ok_pass_2)"
   ]
  }
 ],
 "metadata": {
  "kernelspec": {
   "display_name": "Python 3",
   "language": "python",
   "name": "python3"
  },
  "language_info": {
   "codemirror_mode": {
    "name": "ipython",
    "version": 3
   },
   "file_extension": ".py",
   "mimetype": "text/x-python",
   "name": "python",
   "nbconvert_exporter": "python",
   "pygments_lexer": "ipython3",
   "version": "3.7.5"
  }
 },
 "nbformat": 4,
 "nbformat_minor": 2
}
