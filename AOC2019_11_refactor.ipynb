{
 "cells": [
  {
   "cell_type": "markdown",
   "metadata": {},
   "source": [
    "# AOC2019 - Day 11\n",
    "\n",
    "Today's challenge: [Day 11](https://adventofcode.com/2019/day/11)\n",
    "\n",
    "Data are manually downloaded into `./data/input_11.txt`"
   ]
  },
  {
   "cell_type": "code",
   "execution_count": 1,
   "metadata": {},
   "outputs": [],
   "source": [
    "with open('./data/input_11.txt') as f:\n",
    "    raw = f.read()"
   ]
  },
  {
   "cell_type": "code",
   "execution_count": 2,
   "metadata": {},
   "outputs": [],
   "source": [
    "data = [int(x) for x in raw.strip().split(\",\")]"
   ]
  },
  {
   "cell_type": "code",
   "execution_count": 3,
   "metadata": {},
   "outputs": [],
   "source": [
    "from Intcode import Intcode\n",
    "from collections import defaultdict"
   ]
  },
  {
   "cell_type": "code",
   "execution_count": 4,
   "metadata": {},
   "outputs": [],
   "source": [
    "class Robot:\n",
    "    def __init__(self, brain):\n",
    "        self.p = brain\n",
    "        self.panel = defaultdict(lambda : [0])\n",
    "        self.directions = ['u','r','d','l']\n",
    "        self.curr_d = 0\n",
    "        self.pos_x = 0\n",
    "        self.pos_y = 0\n",
    "        \n",
    "    def __repr__(self):\n",
    "        xs, ys = zip(*self.panel.keys())\n",
    "        x0, x1 = min(xs), max(xs)\n",
    "        y0, y1 = min(ys), max(ys)\n",
    "        res = []\n",
    "        for y in range(y0, y1+1):\n",
    "            row = \"\"\n",
    "            for x in range(x0,x1+1):\n",
    "                if self.panel[(x,y)][-1] == 1:\n",
    "                    row += '#'\n",
    "                else:\n",
    "                    row += ' '\n",
    "            res.append(row)\n",
    "        return \"\\n\".join(res[::-1])\n",
    "        \n",
    "    def rotate(self, d):\n",
    "        if d == 1:\n",
    "            self.curr_d += 1\n",
    "        elif d == 0:\n",
    "            self.curr_d += 3\n",
    "        self.curr_d %= 4\n",
    "        \n",
    "    def move(self):\n",
    "        d = self.directions[self.curr_d] \n",
    "        if d == 'u':\n",
    "            self.pos_y += 1\n",
    "        elif d == 'd':\n",
    "            self.pos_y -= 1\n",
    "        elif d == 'r':\n",
    "            self.pos_x += 1\n",
    "        elif d == 'l':\n",
    "            self.pos_x -= 1\n",
    "            \n",
    "    def color(self, c):\n",
    "        self.panel[(self.pos_x, self.pos_y)].append(c)\n",
    "        \n",
    "    def run(self):\n",
    "        while True:\n",
    "            try:\n",
    "                current_tile = self.panel[(self.pos_x, self.pos_y)][-1]\n",
    "                out1 = next(self.p.input(current_tile))\n",
    "                out2 = next(self.p)\n",
    "                self.color(out1)\n",
    "                self.rotate(out2)\n",
    "                self.move()\n",
    "            except:\n",
    "                break"
   ]
  },
  {
   "cell_type": "code",
   "execution_count": 5,
   "metadata": {},
   "outputs": [
    {
     "data": {
      "text/plain": [
       "2184"
      ]
     },
     "execution_count": 5,
     "metadata": {},
     "output_type": "execute_result"
    }
   ],
   "source": [
    "p = Intcode(data[:])\n",
    "r = Robot(p)\n",
    "r.run()\n",
    "sum(1 for y in r.panel.values() if 1 in y)"
   ]
  },
  {
   "cell_type": "code",
   "execution_count": 6,
   "metadata": {},
   "outputs": [
    {
     "name": "stdout",
     "output_type": "stream",
     "text": [
      "  ##  #  #  ##  #  # #### #### ###  #  #   \n",
      " #  # #  # #  # #  #    # #    #  # # #    \n",
      " #  # #### #    ####   #  ###  #  # ##     \n",
      " #### #  # #    #  #  #   #    ###  # #    \n",
      " #  # #  # #  # #  # #    #    #    # #    \n",
      " #  # #  #  ##  #  # #### #### #    #  #   \n"
     ]
    }
   ],
   "source": [
    "p = Intcode(data[:])\n",
    "r = Robot(p)\n",
    "r.panel[(0,0)] = [1]\n",
    "r.run()\n",
    "print(r)"
   ]
  },
  {
   "cell_type": "code",
   "execution_count": 7,
   "metadata": {},
   "outputs": [],
   "source": [
    "# --> AHCHZEPK"
   ]
  }
 ],
 "metadata": {
  "kernelspec": {
   "display_name": "Python 3",
   "language": "python",
   "name": "python3"
  },
  "language_info": {
   "codemirror_mode": {
    "name": "ipython",
    "version": 3
   },
   "file_extension": ".py",
   "mimetype": "text/x-python",
   "name": "python",
   "nbconvert_exporter": "python",
   "pygments_lexer": "ipython3",
   "version": "3.7.5"
  }
 },
 "nbformat": 4,
 "nbformat_minor": 2
}
