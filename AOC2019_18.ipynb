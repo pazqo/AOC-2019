{
 "cells": [
  {
   "cell_type": "markdown",
   "metadata": {},
   "source": [
    "# AOC2019 - Day 18\n",
    "\n",
    "Today's challenge: [Day 18](https://adventofcode.com/2019/day/18)\n",
    "\n",
    "Data are manually downloaded into `./data/input_18.txt`"
   ]
  },
  {
   "cell_type": "code",
   "execution_count": 1,
   "metadata": {},
   "outputs": [],
   "source": [
    "with open('./data/input_18.txt') as f:\n",
    "    raw = f.read()"
   ]
  },
  {
   "cell_type": "code",
   "execution_count": 2,
   "metadata": {},
   "outputs": [],
   "source": [
    "import networkx as nx\n",
    "\n",
    "from itertools import combinations\n",
    "from collections import defaultdict"
   ]
  },
  {
   "cell_type": "code",
   "execution_count": 3,
   "metadata": {},
   "outputs": [
    {
     "data": {
      "text/plain": [
       "(3204, 3201)"
      ]
     },
     "execution_count": 3,
     "metadata": {},
     "output_type": "execute_result"
    }
   ],
   "source": [
    "# prepare labyrinth\n",
    "rows = raw.strip().split(\"\\n\")\n",
    "edges = []\n",
    "keys = dict()\n",
    "doors = dict()\n",
    "start = (None, None)\n",
    "\n",
    "for y, row in enumerate(rows[:-1]):\n",
    "    for x, c in enumerate(row[:-1]):\n",
    "        if c != '#':\n",
    "            if c == '@':\n",
    "                start = (x,y)\n",
    "            if c.islower():\n",
    "                keys[c] = (x,y)\n",
    "            if c.isupper():\n",
    "                doors[c] = (x,y)\n",
    "            if row[x+1] != '#':\n",
    "                edges.append(((x,y), (x+1,y)))\n",
    "            if rows[y+1][x] != '#':\n",
    "                edges.append(((x,y), (x,y+1)))\n",
    "                \n",
    "doors_ = set(doors.values())\n",
    "backdoors = {v: k.lower() for k, v in doors.items()}\n",
    "G = nx.Graph(edges)\n",
    "# Since it's (almost) a tree, there is only one path from key a to key b.\n",
    "# So it cannot be optimized with further keys collected\n",
    "G.number_of_edges(), G.number_of_nodes()"
   ]
  },
  {
   "cell_type": "code",
   "execution_count": 4,
   "metadata": {},
   "outputs": [],
   "source": [
    "distances = defaultdict(dict)\n",
    "obstacles = defaultdict(dict)\n",
    "\n",
    "for x, y in combinations(keys, 2):\n",
    "    p = nx.shortest_path(G, keys[x], keys[y])\n",
    "    distances[x][y] = len(p)-1\n",
    "    distances[y][x] = len(p)-1\n",
    "    if doors_.intersection(p): # collect eventual obstacles, by name!\n",
    "        obstacles[x][y] = {backdoors[d] for d in doors_.intersection(p)}\n",
    "        obstacles[y][x] = {backdoors[d] for d in doors_.intersection(p)}\n",
    "\n",
    "for x in keys:\n",
    "    p = nx.shortest_path(G, start, keys[x])\n",
    "    if not doors_.intersection(p):\n",
    "        distances['@'][x] = len(p)-1"
   ]
  },
  {
   "cell_type": "code",
   "execution_count": 5,
   "metadata": {},
   "outputs": [],
   "source": [
    "class History:\n",
    "    def __init__(self, hist=None, d=0, distances=dict(), obstacles=dict()):\n",
    "        self.d = d\n",
    "        self.distances = distances\n",
    "        self.obstacles = obstacles\n",
    "        if hist is None:\n",
    "            self.hist = ['@']\n",
    "        else:\n",
    "            self.hist = hist\n",
    "        self.used_keys = set(['@'])\n",
    "        self.res = []\n",
    "    \n",
    "    def get_key(self):\n",
    "        ks = \"\".join(sorted(self.hist))\n",
    "        last_ks = self.hist[-1]\n",
    "        return ks, last_ks\n",
    "    \n",
    "    def next_keys(self):\n",
    "        res = []\n",
    "        k = self.hist[-1]\n",
    "        for k_, d_ in self.distances[k].items():\n",
    "            if k_ in self.used_keys:\n",
    "                continue\n",
    "            elif k_ in self.obstacles[k] and obstacles[k][k_].difference(self.used_keys):\n",
    "                continue\n",
    "            else:\n",
    "                res.append((k_, self.d + d_))\n",
    "        return sorted(res, key=lambda x: x[1])\n",
    "        \n",
    "    def add_step(self, step):\n",
    "        k, d = step\n",
    "        hist_ = self.hist[:]\n",
    "        hist_.append(k)\n",
    "        new_hist = History(hist=hist_,distances=distances,obstacles=obstacles)\n",
    "        new_hist.d += d\n",
    "        new_hist.used_keys = set(self.used_keys).union([k])\n",
    "        return new_hist\n",
    "    \n",
    "    def backtrack(self):\n",
    "        global all_time_best, memo\n",
    "        k = self.get_key()\n",
    "        if k in memo and self.d >= memo[k]:\n",
    "            return []\n",
    "        else:\n",
    "            memo[k] = self.d\n",
    "        next_steps = self.next_keys()\n",
    "        if len(next_steps) == 0: # all keys collected\n",
    "            if all_time_best is None:\n",
    "                all_time_best = self.d\n",
    "                print(\"First result: \", all_time_best)\n",
    "                print(self.hist)\n",
    "            if self.d < all_time_best:\n",
    "                print(\"New best!\", self.d)\n",
    "                all_time_best = self.d\n",
    "                return [self.d]\n",
    "        # continue exploration\n",
    "        for step in next_steps:\n",
    "            new_hist = self.add_step(step)\n",
    "            self.res += new_hist.backtrack()\n",
    "        return self.res"
   ]
  },
  {
   "cell_type": "code",
   "execution_count": 6,
   "metadata": {},
   "outputs": [
    {
     "name": "stdout",
     "output_type": "stream",
     "text": [
      "First result:  5762\n",
      "['@', 'j', 'r', 'v', 'y', 'p', 'm', 'q', 's', 'x', 'a', 'u', 'b', 'd', 'o', 'e', 'w', 'c', 'k', 'i', 'l', 'h', 'z', 'g', 'n', 'f', 't']\n",
      "New best! 5758\n",
      "New best! 5426\n",
      "New best! 5242\n",
      "New best! 5226\n",
      "New best! 5194\n",
      "New best! 5190\n",
      "New best! 5182\n"
     ]
    },
    {
     "data": {
      "text/plain": [
       "5182"
      ]
     },
     "execution_count": 6,
     "metadata": {},
     "output_type": "execute_result"
    }
   ],
   "source": [
    "all_time_best = None\n",
    "memo = dict()\n",
    "h = History(distances=distances, obstacles=obstacles)\n",
    "h.backtrack()[-1]"
   ]
  },
  {
   "cell_type": "code",
   "execution_count": 7,
   "metadata": {},
   "outputs": [],
   "source": [
    "# Part 2, split in 4 labs, at line&row 40"
   ]
  },
  {
   "cell_type": "code",
   "execution_count": 8,
   "metadata": {},
   "outputs": [],
   "source": [
    "# splitting into quadrants\n",
    "w, h = 40, 40 # different w/h because tests where also rectangular\n",
    "labs = [\n",
    "    [row[:w+1] for row in rows[:h+1]],\n",
    "    [row[w:] for row in rows[:h+1]],\n",
    "    [row[:w+1] for row in rows[h:]],\n",
    "    [row[w:] for row in rows[h:]]\n",
    "]\n",
    "\n",
    "starts = [\n",
    "    (0,w-1,h-1),\n",
    "    (1,1,h-1),\n",
    "    (2,w-1,1),\n",
    "    (3,1,1)\n",
    "]\n",
    "edges = []\n",
    "keys = dict()\n",
    "doors = dict()"
   ]
  },
  {
   "cell_type": "code",
   "execution_count": 9,
   "metadata": {},
   "outputs": [
    {
     "data": {
      "text/plain": [
       "(3204, 3207)"
      ]
     },
     "execution_count": 9,
     "metadata": {},
     "output_type": "execute_result"
    }
   ],
   "source": [
    "# prepare graph\n",
    "for i, rows_ in enumerate(labs):\n",
    "    for y, row in enumerate(rows_[:-1]):\n",
    "        for x, c in enumerate(row[:-1]):\n",
    "            if c != '#':\n",
    "                if c.islower():\n",
    "                    keys[c] = (i,x,y)\n",
    "                if c.isupper():\n",
    "                    doors[c] = (i,x,y)\n",
    "                if row[x+1] != '#':\n",
    "                    edges.append(((i,x,y), (i,x+1,y)))\n",
    "                if rows_[y+1][x] != '#':\n",
    "                    edges.append(((i,x,y), (i,x,y+1)))\n",
    "\n",
    "doors_ = set(doors.values())\n",
    "backdoors = {v:k.lower() for k, v in doors.items()}\n",
    "G = nx.Graph(edges)\n",
    "G.number_of_edges(), G.number_of_nodes()"
   ]
  },
  {
   "cell_type": "code",
   "execution_count": 10,
   "metadata": {},
   "outputs": [],
   "source": [
    "# precompute distances and obstacles\n",
    "distances = defaultdict(dict)\n",
    "obstacles = defaultdict(dict)\n",
    "\n",
    "for x, y in combinations(keys, 2):\n",
    "    x_, y_ = keys[x], keys[y]\n",
    "    if x_[0] != y_[0]:\n",
    "        continue\n",
    "    p = nx.shortest_path(G, x_, y_)\n",
    "    distances[x][y] = len(p)-1\n",
    "    distances[y][x] = len(p)-1\n",
    "    if doors_.intersection(p): # collect eventual obstacles, by name!\n",
    "        obstacles[x][y] = {backdoors[d] for d in doors_.intersection(p)}\n",
    "        obstacles[y][x] = {backdoors[d] for d in doors_.intersection(p)}\n",
    "        \n",
    "for k, coords in keys.items():\n",
    "    start = starts[coords[0]]\n",
    "    p = nx.shortest_path(G, start, coords)\n",
    "    distances['@%s' % coords[0]][k] = len(p)-1\n",
    "    if doors_.intersection(p):\n",
    "        obstacles['@%s' % coords[0]][k] = {backdoors[d] for d in doors_.intersection(p)}\n",
    "#        distances['@%s' % coords[0]][k] = len(p)-1"
   ]
  },
  {
   "cell_type": "code",
   "execution_count": 11,
   "metadata": {},
   "outputs": [],
   "source": [
    "class HistorySplit:\n",
    "    def __init__(self, hist=None, d=0, distances=dict(), obstacles=dict()):\n",
    "        self.d = d\n",
    "        self.distances = distances\n",
    "        self.obstacles = obstacles\n",
    "        if hist is None:\n",
    "            self.hist = [\n",
    "                ['@0'],['@1'],['@2'],['@3']\n",
    "            ]\n",
    "        else:\n",
    "            self.hist = hist\n",
    "        self.used_keys = set(['@0','@1','@2','@3'])\n",
    "        self.res = []\n",
    "    \n",
    "    def get_key(self):\n",
    "        ks = \"\".join(sorted(sum(self.hist, [])))\n",
    "        last_ks = \"\".join([xs[-1] for xs in self.hist])\n",
    "        return ks, last_ks\n",
    "    \n",
    "    def next_keys(self):\n",
    "        res = []\n",
    "        for i, hist in enumerate(self.hist):\n",
    "            k = hist[-1]\n",
    "            for k_, d_ in self.distances[k].items():\n",
    "                if k_ in self.used_keys:\n",
    "                    continue\n",
    "                elif k_ in self.obstacles[k] and obstacles[k][k_].difference(self.used_keys):\n",
    "                    continue\n",
    "                else:\n",
    "                    res.append((k_, self.d + d_, i))\n",
    "        return sorted(res, key=lambda x: x[1])\n",
    "        \n",
    "    def add_step(self, step):\n",
    "        k, d, i = step\n",
    "        hist_ = [xs[:] for xs in self.hist]\n",
    "        hist_[i].append(k)\n",
    "        new_hist = HistorySplit(hist=hist_,distances=distances,obstacles=obstacles)\n",
    "        new_hist.d += d\n",
    "        new_hist.used_keys = set(self.used_keys).union([k])\n",
    "        return new_hist\n",
    "    \n",
    "    def backtrack(self):\n",
    "        global all_time_best_, memo\n",
    "        k = self.get_key()\n",
    "        if k in memo and self.d >= memo[k]:\n",
    "            return []\n",
    "        else:\n",
    "            memo[k] = self.d\n",
    "        next_steps = self.next_keys()\n",
    "        if len(next_steps) == 0: # all keys collected\n",
    "            if all_time_best_ is None:\n",
    "                all_time_best_ = self.d\n",
    "                print(\"First result: \", all_time_best_)\n",
    "                return [self.d]\n",
    "            if self.d < all_time_best_:\n",
    "                print(\"New best!\", self.d)\n",
    "                all_time_best_ = self.d\n",
    "                return [self.d]\n",
    "        # continue exploration\n",
    "        for step in next_steps:\n",
    "            new_hist = self.add_step(step)\n",
    "            self.res += new_hist.backtrack()\n",
    "        return self.res"
   ]
  },
  {
   "cell_type": "code",
   "execution_count": 12,
   "metadata": {},
   "outputs": [],
   "source": [
    "all_time_best_ = None\n",
    "memo = dict()\n",
    "h = HistorySplit(distances=distances, obstacles=obstacles)"
   ]
  },
  {
   "cell_type": "code",
   "execution_count": 13,
   "metadata": {
    "scrolled": true
   },
   "outputs": [
    {
     "name": "stdout",
     "output_type": "stream",
     "text": [
      "First result:  2154\n"
     ]
    },
    {
     "data": {
      "text/plain": [
       "2154"
      ]
     },
     "execution_count": 13,
     "metadata": {},
     "output_type": "execute_result"
    }
   ],
   "source": [
    "h.backtrack()[-1]"
   ]
  }
 ],
 "metadata": {
  "kernelspec": {
   "display_name": "Python 3",
   "language": "python",
   "name": "python3"
  },
  "language_info": {
   "codemirror_mode": {
    "name": "ipython",
    "version": 3
   },
   "file_extension": ".py",
   "mimetype": "text/x-python",
   "name": "python",
   "nbconvert_exporter": "python",
   "pygments_lexer": "ipython3",
   "version": "3.7.5"
  }
 },
 "nbformat": 4,
 "nbformat_minor": 2
}
