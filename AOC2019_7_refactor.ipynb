{
 "cells": [
  {
   "cell_type": "markdown",
   "metadata": {},
   "source": [
    "# AOC2019 - Day 7\n",
    "\n",
    "Today's challenge: [Day 7](https://adventofcode.com/2019/day/7)\n",
    "\n",
    "Data are manually downloaded into `./data/input_7.txt`"
   ]
  },
  {
   "cell_type": "code",
   "execution_count": 1,
   "metadata": {},
   "outputs": [],
   "source": [
    "with open('./data/input_7.txt') as f:\n",
    "    raw = f.read()"
   ]
  },
  {
   "cell_type": "code",
   "execution_count": 2,
   "metadata": {},
   "outputs": [],
   "source": [
    "from Intcode import Intcode"
   ]
  },
  {
   "cell_type": "code",
   "execution_count": 3,
   "metadata": {},
   "outputs": [],
   "source": [
    "data = [int(x) for x in raw.strip().split(\",\")]"
   ]
  },
  {
   "cell_type": "code",
   "execution_count": 4,
   "metadata": {},
   "outputs": [],
   "source": [
    "def amplify(xs):\n",
    "    programs = [Intcode(data[:], [i]) for i in xs]\n",
    "    res = 0\n",
    "    res = next(programs[0].input(res))\n",
    "    res = next(programs[1].input(res))\n",
    "    res = next(programs[2].input(res))\n",
    "    res = next(programs[3].input(res))\n",
    "    return next(programs[4].input(res))"
   ]
  },
  {
   "cell_type": "code",
   "execution_count": 5,
   "metadata": {},
   "outputs": [],
   "source": [
    "from itertools import permutations"
   ]
  },
  {
   "cell_type": "code",
   "execution_count": 6,
   "metadata": {},
   "outputs": [
    {
     "data": {
      "text/plain": [
       "95757"
      ]
     },
     "execution_count": 6,
     "metadata": {},
     "output_type": "execute_result"
    }
   ],
   "source": [
    "all_ = []\n",
    "for ps in permutations(range(5)):\n",
    "    res = amplify(ps)\n",
    "    all_.append(res)\n",
    "max(all_)"
   ]
  },
  {
   "cell_type": "code",
   "execution_count": 7,
   "metadata": {},
   "outputs": [],
   "source": [
    "def mega_amplify(xs):\n",
    "    steps, res = 0, 0\n",
    "    programs = [Intcode(data[:], [i]) for i in xs]\n",
    "    while True:\n",
    "        try:\n",
    "            res = next(programs[steps%5].input(res))\n",
    "            steps += 1\n",
    "        except StopIteration:\n",
    "            break\n",
    "    return res"
   ]
  },
  {
   "cell_type": "code",
   "execution_count": 8,
   "metadata": {},
   "outputs": [
    {
     "data": {
      "text/plain": [
       "4275738"
      ]
     },
     "execution_count": 8,
     "metadata": {},
     "output_type": "execute_result"
    }
   ],
   "source": [
    "all_ = []\n",
    "for ps in permutations(range(5,10)):\n",
    "    res = mega_amplify(ps)\n",
    "    all_.append(res)\n",
    "max(all_)"
   ]
  }
 ],
 "metadata": {
  "kernelspec": {
   "display_name": "Python 3",
   "language": "python",
   "name": "python3"
  },
  "language_info": {
   "codemirror_mode": {
    "name": "ipython",
    "version": 3
   },
   "file_extension": ".py",
   "mimetype": "text/x-python",
   "name": "python",
   "nbconvert_exporter": "python",
   "pygments_lexer": "ipython3",
   "version": "3.7.5"
  }
 },
 "nbformat": 4,
 "nbformat_minor": 2
}
