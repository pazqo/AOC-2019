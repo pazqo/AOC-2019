{
 "cells": [
  {
   "cell_type": "markdown",
   "metadata": {},
   "source": [
    "# AOC2019 - Day 23\n",
    "\n",
    "Today's challenge: [Day 23](https://adventofcode.com/2019/day/23)\n",
    "\n",
    "Data are manually downloaded into `./data/input_23.txt`"
   ]
  },
  {
   "cell_type": "code",
   "execution_count": 1,
   "metadata": {},
   "outputs": [],
   "source": [
    "with open('./data/input_23.txt') as f:\n",
    "    raw = f.read()"
   ]
  },
  {
   "cell_type": "code",
   "execution_count": 2,
   "metadata": {},
   "outputs": [],
   "source": [
    "from Intcode import Intcode\n",
    "\n",
    "data = [int(x) for x in raw.strip().split(\",\")]"
   ]
  },
  {
   "cell_type": "code",
   "execution_count": 3,
   "metadata": {},
   "outputs": [],
   "source": [
    "class Network:\n",
    "    def __init__(self, data, n=50):\n",
    "        self.nic = []\n",
    "        self.queue = []\n",
    "        for i in range(n):\n",
    "            p = Intcode(data[:])\n",
    "            p.input(i).run()\n",
    "            self.nic.append(p)\n",
    "            self.queue.append([])\n",
    "    \n",
    "    @staticmethod\n",
    "    def parse_answer(res):\n",
    "        return list(zip(res[::3], res[1::3], res[2::3]))\n",
    "    \n",
    "    def run(self):\n",
    "        i = 0\n",
    "        stop = False\n",
    "        while not stop:\n",
    "            while self.queue[i]:\n",
    "                if len(self.queue[i]) == 0:\n",
    "                    self.nix[i].input(-1)\n",
    "                x, y = self.queue[i].pop(0)\n",
    "                self.nic[i].input(x)\n",
    "                self.nic[i].input(y)\n",
    "            self.nic[i].input(-1)\n",
    "            res = list(self.nic[i])\n",
    "            for j, x, y in self.parse_answer(res):\n",
    "                if j == 255:\n",
    "                    print(\"Sol 1:\", y)\n",
    "                    stop = True\n",
    "                else:\n",
    "                    self.queue[j].append((x,y))\n",
    "            i += 1\n",
    "            i %= 50"
   ]
  },
  {
   "cell_type": "code",
   "execution_count": 4,
   "metadata": {},
   "outputs": [],
   "source": [
    "nw = Network(data)"
   ]
  },
  {
   "cell_type": "code",
   "execution_count": 5,
   "metadata": {},
   "outputs": [
    {
     "name": "stdout",
     "output_type": "stream",
     "text": [
      "Sol 1: 23057\n"
     ]
    }
   ],
   "source": [
    "nw.run()"
   ]
  },
  {
   "cell_type": "code",
   "execution_count": 6,
   "metadata": {},
   "outputs": [],
   "source": [
    "class NetworkWNAT:\n",
    "    def __init__(self, data, n=50):\n",
    "        self.nic = []\n",
    "        self.queue = []\n",
    "        self.unserviced = []\n",
    "        for i in range(n):\n",
    "            p = Intcode(data[:])\n",
    "            p.input(i).run()\n",
    "            self.nic.append(p)\n",
    "            self.queue.append([])\n",
    "            self.unserviced.append(1)\n",
    "        self.NAT = None\n",
    "    \n",
    "    @staticmethod\n",
    "    def parse_answer(res):\n",
    "        return list(zip(res[::3], res[1::3], res[2::3]))\n",
    "    \n",
    "    def run(self):\n",
    "        i = 0\n",
    "        while True:\n",
    "            while self.queue[i]:\n",
    "                x, y = self.queue[i].pop(0)\n",
    "                self.nic[i].input(x)\n",
    "                self.nic[i].input(y)\n",
    "            self.nic[i].input(-1)\n",
    "            self.unserviced[i] += 1\n",
    "            res = list(self.nic[i])\n",
    "            for j, x, y in self.parse_answer(res):\n",
    "                if j == 255:\n",
    "                    self.NAT = (x,y)\n",
    "                else:\n",
    "                    self.unserviced[j] = 0\n",
    "                    self.queue[j].append((x,y))\n",
    "            if all(x > 1 for x in self.unserviced):\n",
    "                yield self.NAT[1]\n",
    "                self.queue[0].append(self.NAT)\n",
    "                self.unserviced = [0 for _ in self.nic]\n",
    "            i += 1\n",
    "            i %= 50"
   ]
  },
  {
   "cell_type": "code",
   "execution_count": 7,
   "metadata": {},
   "outputs": [
    {
     "name": "stdout",
     "output_type": "stream",
     "text": [
      "15156\n"
     ]
    }
   ],
   "source": [
    "nw_nat = NetworkWNAT(data)\n",
    "\n",
    "all_ys = set()\n",
    "for y in nw_nat.run():\n",
    "    if y in all_ys:\n",
    "        print(y)\n",
    "        break\n",
    "    all_ys.add(y)"
   ]
  }
 ],
 "metadata": {
  "kernelspec": {
   "display_name": "Python 3",
   "language": "python",
   "name": "python3"
  },
  "language_info": {
   "codemirror_mode": {
    "name": "ipython",
    "version": 3
   },
   "file_extension": ".py",
   "mimetype": "text/x-python",
   "name": "python",
   "nbconvert_exporter": "python",
   "pygments_lexer": "ipython3",
   "version": "3.7.5"
  }
 },
 "nbformat": 4,
 "nbformat_minor": 2
}
