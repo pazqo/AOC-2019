{
 "cells": [
  {
   "cell_type": "markdown",
   "metadata": {},
   "source": [
    "# AOC2019 - Day 7\n",
    "\n",
    "Today's challenge: [Day 7](https://adventofcode.com/2019/day/7)\n",
    "\n",
    "Data are manually downloaded into `./data/input_7.txt`"
   ]
  },
  {
   "cell_type": "code",
   "execution_count": 1,
   "metadata": {},
   "outputs": [],
   "source": [
    "with open('./data/input_7.txt') as f:\n",
    "    raw = f.read()"
   ]
  },
  {
   "cell_type": "code",
   "execution_count": 2,
   "metadata": {},
   "outputs": [],
   "source": [
    "class Intcode:\n",
    "    def __init__(self, xs, pos=0, i=None):\n",
    "        self.xs = xs\n",
    "        self.pos = pos\n",
    "        self.i = i\n",
    "        self.res = 0\n",
    "        \n",
    "    def display(self):\n",
    "        return dict(enumerate(self.xs))\n",
    "    \n",
    "    @staticmethod\n",
    "    def parse_op(x):\n",
    "        params, op = divmod(x, 100)\n",
    "        params, p1 = divmod(params, 10)\n",
    "        p2 = params % 10\n",
    "        return op, p1, p2\n",
    "    \n",
    "    def op1(self,i1,i2,out,ps):\n",
    "        p1, p2 = ps\n",
    "        i1_ = i1 if p1 == 1 else self.xs[i1]\n",
    "        i2_ = i2 if p2 == 1 else self.xs[i2]\n",
    "        self.xs[out] = i1_ + i2_\n",
    "        return 4\n",
    "    \n",
    "    def op2(self,i1,i2,out,ps):\n",
    "        p1, p2 = ps\n",
    "        i1_ = i1 if p1 == 1 else self.xs[i1]\n",
    "        i2_ = i2 if p2 == 1 else self.xs[i2]\n",
    "        self.xs[out] = i1_ * i2_\n",
    "        return 4\n",
    "\n",
    "    def op3(self,x,i,pi):\n",
    "        self.xs[i] = x\n",
    "        return 2\n",
    "\n",
    "    def op4(self,i,pi):\n",
    "        #print(\"Output: \", self.xs[i])\n",
    "        return (2, self.xs[i])\n",
    "    \n",
    "    def op5(self,i,out,ps):\n",
    "        pi, pout = ps\n",
    "        i_ = i if pi == 1 else self.xs[i]\n",
    "        out_ = out if pout == 1 else self.xs[out]\n",
    "        if i_ != 0:\n",
    "            self.pos = out_\n",
    "            return 0\n",
    "        return 3\n",
    "    \n",
    "    def op6(self,i,out,ps):\n",
    "        pi, pout = ps\n",
    "        i_ = i if pi == 1 else self.xs[i]\n",
    "        out_ = out if pout == 1 else self.xs[out]\n",
    "        if i_ == 0:\n",
    "            self.pos = out_\n",
    "            return 0\n",
    "        return 3\n",
    "    \n",
    "    def op7(self,i1,i2,out,ps):\n",
    "        p1, p2 = ps\n",
    "        i1_ = i1 if p1 == 1 else self.xs[i1]\n",
    "        i2_ = i2 if p2 == 1 else self.xs[i2]\n",
    "        self.xs[out] = 1 if i1_ < i2_ else 0\n",
    "        return 4\n",
    "    \n",
    "    def op8(self,i1,i2,out,ps):\n",
    "        p1, p2 = ps\n",
    "        i1_ = i1 if p1 == 1 else self.xs[i1]\n",
    "        i2_ = i2 if p2 == 1 else self.xs[i2]\n",
    "        self.xs[out] = 1 if i1_ == i2_ else 0\n",
    "        return 4\n",
    "    \n",
    "    def op99(self):\n",
    "        return 0\n",
    "\n",
    "    def run(self, x, set_mode=False):\n",
    "        while True:\n",
    "            op, *params = self.parse_op(self.xs[self.pos])\n",
    "            if op%100 == 1:\n",
    "                i1, i2, out = self.xs[self.pos+1:self.pos+4]\n",
    "                self.pos += self.op1(i1, i2, out, params)\n",
    "            elif op%100 == 2:\n",
    "                i1, i2, out = self.xs[self.pos+1:self.pos+4]\n",
    "                self.pos += self.op2(i1, i2, out, params)\n",
    "            elif op%100 == 3:\n",
    "                i = self.xs[self.pos+1]\n",
    "                self.pos += self.op3(x, i, params)\n",
    "                if set_mode:\n",
    "                    return self\n",
    "            elif op%100 == 4:\n",
    "                i = self.xs[self.pos+1]\n",
    "                step, res = self.op4(i, params)\n",
    "                self.res = res\n",
    "                self.pos += step\n",
    "                return res, True\n",
    "            elif op%100 == 5:\n",
    "                i, out = self.xs[self.pos+1:self.pos+3]\n",
    "                step = self.op5(i, out, params)\n",
    "                self.pos += step\n",
    "            elif op%100 == 6:\n",
    "                i, out = self.xs[self.pos+1:self.pos+3]\n",
    "                step = self.op6(i, out, params)\n",
    "                self.pos += step\n",
    "            elif op%100 == 7:\n",
    "                i1, i2, out = self.xs[self.pos+1:self.pos+4]\n",
    "                self.pos += self.op7(i1, i2, out, params)\n",
    "            elif op%100 == 8:\n",
    "                i1, i2, out = self.xs[self.pos+1:self.pos+4]\n",
    "                self.pos += self.op8(i1, i2, out, params)\n",
    "            elif op%100 == 99:\n",
    "                self.op99()\n",
    "                return self.res, False\n",
    "            else:\n",
    "                print(\"invalid instruction!\", op)\n",
    "                break"
   ]
  },
  {
   "cell_type": "code",
   "execution_count": 3,
   "metadata": {},
   "outputs": [],
   "source": [
    "data = [int(x) for x in raw.strip().split(\",\")]"
   ]
  },
  {
   "cell_type": "code",
   "execution_count": 4,
   "metadata": {},
   "outputs": [],
   "source": [
    "def amplify(xs):\n",
    "    program1 = Intcode(data[:])\n",
    "    program2 = Intcode(data[:])\n",
    "    program3 = Intcode(data[:])\n",
    "    program4 = Intcode(data[:])\n",
    "    program5 = Intcode(data[:])\n",
    "    programs = [Intcode(data[:]).run(m, True) for m in xs]\n",
    "    res,_ = programs[0].run(0)\n",
    "    res,_ = programs[1].run(res)\n",
    "    res,_ = programs[2].run(res)\n",
    "    res,_ = programs[3].run(res)\n",
    "    return programs[4].run(res)[0]"
   ]
  },
  {
   "cell_type": "code",
   "execution_count": 5,
   "metadata": {},
   "outputs": [],
   "source": [
    "from itertools import permutations"
   ]
  },
  {
   "cell_type": "code",
   "execution_count": 6,
   "metadata": {},
   "outputs": [
    {
     "data": {
      "text/plain": [
       "95757"
      ]
     },
     "execution_count": 6,
     "metadata": {},
     "output_type": "execute_result"
    }
   ],
   "source": [
    "all_ = []\n",
    "for ps in permutations(range(5)):\n",
    "    res = amplify(ps)\n",
    "    all_.append(res)\n",
    "max(all_)"
   ]
  },
  {
   "cell_type": "code",
   "execution_count": 7,
   "metadata": {},
   "outputs": [],
   "source": [
    "#data = [3,26,1001,26,-4,26,3,27,1002,27,2,27,1,27,26,27,4,27,1001,28,-1,28,1005,28,6,99,0,0,5]\n",
    "#data = [3,52,1001,52,-5,52,3,53,1,52,56,54,1007,54,5,55,1005,55,26,1001,54,\n",
    "#        -5,54,1105,1,12,1,53,54,53,1008,54,0,55,1001,55,1,55,2,53,55,53,4,\n",
    "#        53,1001,56,-1,56,1005,56,6,99,0,0,0,0,10]\n",
    "data = [int(x) for x in raw.strip().split(\",\")]"
   ]
  },
  {
   "cell_type": "code",
   "execution_count": 8,
   "metadata": {},
   "outputs": [],
   "source": [
    "def mega_amplify(xs):\n",
    "    step, res = 0, 0\n",
    "    programs = [Intcode(data[:]).run(m, True) for m in xs]\n",
    "    proceed = True\n",
    "    while proceed:\n",
    "        #print(step % 5, xs[0], res, programs[0].pos)\n",
    "        res, proceed = programs[step%5].run(res)\n",
    "        step += 1\n",
    "    return programs[4].res"
   ]
  },
  {
   "cell_type": "code",
   "execution_count": 9,
   "metadata": {},
   "outputs": [
    {
     "data": {
      "text/plain": [
       "4275738"
      ]
     },
     "execution_count": 9,
     "metadata": {},
     "output_type": "execute_result"
    }
   ],
   "source": [
    "all_ = []\n",
    "for ps in permutations(range(5,10)):\n",
    "    res = mega_amplify(ps)\n",
    "    all_.append(res)\n",
    "max(all_)\n",
    "#mega_amplify([9,8,7,6,5])"
   ]
  }
 ],
 "metadata": {
  "kernelspec": {
   "display_name": "Python 3",
   "language": "python",
   "name": "python3"
  },
  "language_info": {
   "codemirror_mode": {
    "name": "ipython",
    "version": 3
   },
   "file_extension": ".py",
   "mimetype": "text/x-python",
   "name": "python",
   "nbconvert_exporter": "python",
   "pygments_lexer": "ipython3",
   "version": "3.7.5"
  }
 },
 "nbformat": 4,
 "nbformat_minor": 2
}
