{
 "cells": [
  {
   "cell_type": "markdown",
   "metadata": {},
   "source": [
    "# AOC2019 - Day 15\n",
    "\n",
    "Today's challenge: [Day 15](https://adventofcode.com/2019/day/15)\n",
    "\n",
    "Data are manually downloaded into `./data/input_15.txt`"
   ]
  },
  {
   "cell_type": "code",
   "execution_count": 1,
   "metadata": {},
   "outputs": [],
   "source": [
    "with open('./data/input_15.txt') as f:\n",
    "    raw = f.read()"
   ]
  },
  {
   "cell_type": "code",
   "execution_count": 2,
   "metadata": {},
   "outputs": [],
   "source": [
    "from Intcode import Intcode\n",
    "\n",
    "from IPython import display\n",
    "from time import sleep"
   ]
  },
  {
   "cell_type": "code",
   "execution_count": 3,
   "metadata": {},
   "outputs": [],
   "source": [
    "from collections import defaultdict\n",
    "data = [int(x) for x in raw.strip().split(\",\")]"
   ]
  },
  {
   "cell_type": "code",
   "execution_count": 4,
   "metadata": {},
   "outputs": [],
   "source": [
    "class RC:\n",
    "    def __init__(self, brain):\n",
    "        self.p = brain\n",
    "        self.x = 0\n",
    "        self.y = 0\n",
    "        self.panel = defaultdict(lambda : \" \")\n",
    "        self.panel[(0,0)] = 'o'\n",
    "        self.start = (0,0)\n",
    "        self.target = (None, None)\n",
    "        self.d_ = 0 # wlog start north\n",
    "        self.d = 1\n",
    "        self.directions = [1,4,2,3] # N, E, S, W, clockwise\n",
    "        \n",
    "    def __repr__(self):\n",
    "        xs, ys = zip(*self.panel.keys())\n",
    "        x0, x1 = min(xs), max(xs)\n",
    "        y0, y1 = min(ys), max(ys)\n",
    "        res = []\n",
    "        for y in range(y0, y1+1):\n",
    "            row = \"\"\n",
    "            for x in range(x0,x1+1):\n",
    "                if (x,y) == self.start:\n",
    "                    row += 'S'\n",
    "                elif (x,y) == self.target:\n",
    "                    row += 'T'\n",
    "                else:\n",
    "                    row += self.panel[(x,y)]\n",
    "            res.append(row)\n",
    "        return \"\\n\".join(res)\n",
    "    \n",
    "    def rotate(self, a):\n",
    "        self.d_ = (self.d_ + 4 + a) % 4\n",
    "        self.d = self.directions[self.d_]\n",
    "        \n",
    "    def move(self, next_move):\n",
    "        # remove myself from old position\n",
    "        self.panel[(self.x, self.y)] = '.'\n",
    "        if next_move == 1: #N\n",
    "            self.y -= 1\n",
    "        elif next_move == 2: #S\n",
    "            self.y += 1\n",
    "        elif next_move == 3: #W\n",
    "            self.x -= 1\n",
    "        elif next_move == 4: #E\n",
    "            self.x += 1\n",
    "        # now, add myself in new position\n",
    "        self.panel[(self.x, self.y)] = 'o'\n",
    "    \n",
    "    def draw_wall(self, nm):\n",
    "        if nm == 1: #N\n",
    "            self.panel[(self.x, self.y-1)] = '#'\n",
    "        elif nm == 2: #S\n",
    "            self.panel[(self.x, self.y+1)] = '#'\n",
    "        elif nm == 3: #W\n",
    "            self.panel[(self.x-1, self.y)] = '#'\n",
    "        elif nm == 4: #E\n",
    "            self.panel[(self.x+1, self.y)] = '#'\n",
    "                \n",
    "    def run(self, s=1):\n",
    "        while True:\n",
    "            next_move = self.d\n",
    "            out = self.p.run(next_move)\n",
    "            if out == 0: # hit a wall\n",
    "                self.draw_wall(next_move)\n",
    "                self.rotate(-1)\n",
    "            else: # proceed\n",
    "                self.move(next_move)\n",
    "                if out == 2:\n",
    "                    self.target = (self.x, self.y)\n",
    "                if self.x == 0 and self.y == 0:\n",
    "                    break\n",
    "                self.rotate(1)\n",
    "            print(self)\n",
    "            display.clear_output(wait=True)\n",
    "            sleep(s)\n"
   ]
  },
  {
   "cell_type": "code",
   "execution_count": 5,
   "metadata": {},
   "outputs": [
    {
     "name": "stdout",
     "output_type": "stream",
     "text": [
      " ########### ######### ######### ####### \n",
      "#...........#.........#.........#.......#\n",
      "#.#####.#####.#######.###.#.#####.###.#.#\n",
      "#.#.....#.....#.....#...#.#.........#.#.#\n",
      "#.#.#####.#######.#.###.#.#########.#.## \n",
      "#.#.#.....#.#.....#.#...#.....#...#.#...#\n",
      "#.###.#####.#.#.#####.#########.#.#####.#\n",
      "#.#...#.#...#.#.....#.....#.....#.......#\n",
      "#.#.###.#.#.#.#####.#####.#.#####.#####.#\n",
      "#.#.#T#...#.#.#...#.#.....#.....#.#...#.#\n",
      "#.#.#.#.###.#.###.#.#.#####.###.###.#.#.#\n",
      "#...#.....#.......#.#.#.......#.....#.#.#\n",
      "#.###.#############.#.#######.#######.#.#\n",
      "#.#...#...........#.#.....#.#.....#...#.#\n",
      "#.###.#.#.#######.#.#####.#.###.###.###.#\n",
      "#...#.#.#.#...#.#...#.....#.....#...#.#.#\n",
      " ##.#.#.###.#.#.###.#.#######.###.###.#.#\n",
      "#...#.#.....#.#.....#...#...#.#...#...#.#\n",
      "#.#####.#####.#######.#.#.#.#.#.#####.#.#\n",
      "#.....#.#.....#.....#.#...#.#.#.#.....#.#\n",
      " ####.#.#.#.###.###.###.###.###.#.#####.#\n",
      "#.#...#.#.#.#...#.#.oS#.#.#...#.#.#.....#\n",
      "#.#.#####.###.###.#####.#.###.#.#.#.#### \n",
      "#.#.......#...#...#.....#.#...#.#.......#\n",
      "#.#######.#.## ##.#.#####.#.###.#######.#\n",
      "#.#.....#.#...#...#.#.....#.#.....#...#.#\n",
      "#.#.#.###.###.#.###.#####.#.#####.#.###.#\n",
      "#.#.#.....#.#.#...........#.#.....#.....#\n",
      "#.#.#######.#.#########.###.#.#######.## \n",
      "#...#.....#.#.....#.....#...#.......#...#\n",
      "#.#####.#.#.#####.#######.###.#####.###.#\n",
      "#.#.....#.#.#...#.........#...#...#.#...#\n",
      "#.###.###.#.#.#.#############.###.#.#.## \n",
      "#...#.#.#.#...#.....#.......#.#...#.#.#.#\n",
      " ##.#.#.#.#.#####.###.#.###.#.#.#.#.#.#.#\n",
      "#.#.#.#...#.....#.....#.#...#...#.#.#.#.#\n",
      "#.#.#.#.## ####.#######.###.#####.#.#.#.#\n",
      "#...#.#...#.......#...#...#.#...#.#.#...#\n",
      "#.###.###.#########.#.###.#.#.#.###.###.#\n",
      "#.....#.............#.....#...#.....#...#\n",
      " ##### ############# ##### ### ##### ### \n"
     ]
    }
   ],
   "source": [
    "p = Intcode(data[:])\n",
    "remote = RC(p)\n",
    "remote.run(s=0.001)"
   ]
  },
  {
   "cell_type": "code",
   "execution_count": 6,
   "metadata": {},
   "outputs": [],
   "source": [
    "import networkx as nx"
   ]
  },
  {
   "cell_type": "code",
   "execution_count": 7,
   "metadata": {},
   "outputs": [],
   "source": [
    "lab = str(remote).split(\"\\n\")\n",
    "g_lab = nx.Graph()\n",
    "\n",
    "for y, row in enumerate(lab[:-1]):\n",
    "    for x, c in enumerate(row[:-1]):\n",
    "        if c == '#' or c == ' ':\n",
    "            continue\n",
    "        if c == 'T':\n",
    "            T = (x, y)\n",
    "        if c == 'S':\n",
    "            S = (x, y)\n",
    "        if row[x+1] in ['S', 'T', '.', 'o']:\n",
    "            g_lab.add_edge((x,y), (x+1,y))\n",
    "        if lab[y+1][x] in ['S', 'T', '.', 'o']:\n",
    "            g_lab.add_edge((x,y), (x,y+1))"
   ]
  },
  {
   "cell_type": "code",
   "execution_count": 8,
   "metadata": {},
   "outputs": [
    {
     "data": {
      "text/plain": [
       "240"
      ]
     },
     "execution_count": 8,
     "metadata": {},
     "output_type": "execute_result"
    }
   ],
   "source": [
    "# part 1\n",
    "nx.shortest_path_length(g_lab, T, S)"
   ]
  },
  {
   "cell_type": "code",
   "execution_count": 9,
   "metadata": {},
   "outputs": [
    {
     "data": {
      "text/plain": [
       "322"
      ]
     },
     "execution_count": 9,
     "metadata": {},
     "output_type": "execute_result"
    }
   ],
   "source": [
    "# part 2\n",
    "max(nx.shortest_path_length(g_lab, T).values())"
   ]
  }
 ],
 "metadata": {
  "kernelspec": {
   "display_name": "Python 3",
   "language": "python",
   "name": "python3"
  },
  "language_info": {
   "codemirror_mode": {
    "name": "ipython",
    "version": 3
   },
   "file_extension": ".py",
   "mimetype": "text/x-python",
   "name": "python",
   "nbconvert_exporter": "python",
   "pygments_lexer": "ipython3",
   "version": "3.7.5"
  }
 },
 "nbformat": 4,
 "nbformat_minor": 2
}
