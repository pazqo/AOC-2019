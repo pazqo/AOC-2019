{
 "cells": [
  {
   "cell_type": "markdown",
   "metadata": {},
   "source": [
    "# AOC2019 - Day 20\n",
    "\n",
    "Today's challenge: [Day 20](https://adventofcode.com/2019/day/20)\n",
    "\n",
    "Data are manually downloaded into `./data/input_20.txt`"
   ]
  },
  {
   "cell_type": "code",
   "execution_count": 1,
   "metadata": {},
   "outputs": [],
   "source": [
    "from string import ascii_uppercase\n",
    "from collections import defaultdict\n",
    "import networkx as nx"
   ]
  },
  {
   "cell_type": "code",
   "execution_count": 2,
   "metadata": {},
   "outputs": [],
   "source": [
    "with open('./data/input_20.txt') as f:\n",
    "    raw = f.read()[:-1]\n",
    "rows = raw.split(\"\\n\")"
   ]
  },
  {
   "cell_type": "code",
   "execution_count": 3,
   "metadata": {},
   "outputs": [],
   "source": [
    "def nbs(x,y,all_=False):\n",
    "    res = [(x+1,y),(x,y+1)]\n",
    "    if all_:\n",
    "        res += [(x-1,y),(x,y-1)]\n",
    "    return res\n",
    "\n",
    "labels = defaultdict(list)\n",
    "base_G = nx.Graph()\n",
    "for y, row in enumerate(rows):\n",
    "    for x, c in enumerate(row):\n",
    "        if c != '.':\n",
    "            continue\n",
    "        for x_, y_ in nbs(x, y,True):\n",
    "            c_ = rows[y_][x_]\n",
    "            if c_ == '.':\n",
    "                base_G.add_edge((x,y),(x_,y_))\n",
    "            elif c_ in ascii_uppercase:\n",
    "                dx, dy = x_-x, y_-y\n",
    "                next_c = rows[y_+dy][x_+dx]\n",
    "                label = c_+next_c if dx+dy > 0 else next_c+c_\n",
    "                labels[label].append((x,y))\n",
    "\n",
    "G = nx.Graph(base_G.edges())\n",
    "for _, nodes in labels.items():\n",
    "    if len(nodes) == 2:\n",
    "        G.add_edge(*nodes)"
   ]
  },
  {
   "cell_type": "code",
   "execution_count": 4,
   "metadata": {},
   "outputs": [
    {
     "data": {
      "text/plain": [
       "556"
      ]
     },
     "execution_count": 4,
     "metadata": {},
     "output_type": "execute_result"
    }
   ],
   "source": [
    "nx.shortest_path_length(G, labels['AA'][0],labels['ZZ'][0])"
   ]
  },
  {
   "cell_type": "code",
   "execution_count": 5,
   "metadata": {},
   "outputs": [],
   "source": [
    "## Part 2 fractal maze!"
   ]
  },
  {
   "cell_type": "code",
   "execution_count": 6,
   "metadata": {},
   "outputs": [],
   "source": [
    "W, H = len(rows[0]), len(rows)\n",
    "\n",
    "def in_out(ps):\n",
    "    x, y = ps[0]\n",
    "    if x == 2 or x == W-3 or y == 2 or y == H-3:\n",
    "        return ps[::-1]\n",
    "    else:\n",
    "        return ps\n",
    "\n",
    "def get_level_edges(g, n):\n",
    "    return [((*n1,n),(*n2,n)) for n1,n2 in g.edges()]\n",
    "\n",
    "def add_level(g, n):\n",
    "    g.add_edges_from(get_level_edges(base_G, n))\n",
    "    for _, nodes in labels.items():\n",
    "        if len(nodes) == 2:\n",
    "            inner, outer = in_out(nodes)\n",
    "            g.add_edge((*inner, n-1), (*outer, n))"
   ]
  },
  {
   "cell_type": "code",
   "execution_count": 7,
   "metadata": {},
   "outputs": [
    {
     "name": "stdout",
     "output_type": "stream",
     "text": [
      "layers: 25\n"
     ]
    },
    {
     "data": {
      "text/plain": [
       "6532"
      ]
     },
     "execution_count": 7,
     "metadata": {},
     "output_type": "execute_result"
    }
   ],
   "source": [
    "full_G = nx.Graph(get_level_edges(base_G, 0))\n",
    "\n",
    "start = (*labels['AA'][0], 0)\n",
    "end = (*labels['ZZ'][0], 0)\n",
    "\n",
    "n = 0\n",
    "while True:\n",
    "    n += 1\n",
    "    add_level(full_G, n)\n",
    "    if nx.has_path(full_G, start, end):\n",
    "        break\n",
    "\n",
    "print(\"layers:\", n)\n",
    "nx.shortest_path_length(full_G, start, end)"
   ]
  }
 ],
 "metadata": {
  "kernelspec": {
   "display_name": "Python 3",
   "language": "python",
   "name": "python3"
  },
  "language_info": {
   "codemirror_mode": {
    "name": "ipython",
    "version": 3
   },
   "file_extension": ".py",
   "mimetype": "text/x-python",
   "name": "python",
   "nbconvert_exporter": "python",
   "pygments_lexer": "ipython3",
   "version": "3.7.5"
  }
 },
 "nbformat": 4,
 "nbformat_minor": 2
}
