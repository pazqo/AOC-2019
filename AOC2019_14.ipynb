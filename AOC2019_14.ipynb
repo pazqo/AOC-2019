{
 "cells": [
  {
   "cell_type": "markdown",
   "metadata": {},
   "source": [
    "# AOC2019 - Day 14\n",
    "\n",
    "Today's challenge: [Day 14](https://adventofcode.com/2019/day/14)\n",
    "\n",
    "Data are manually downloaded into `./data/input_14.txt`"
   ]
  },
  {
   "cell_type": "code",
   "execution_count": 1,
   "metadata": {},
   "outputs": [],
   "source": [
    "def get_chemical(s):\n",
    "    n, c = s.split(\" \")\n",
    "    return (int(n), c)"
   ]
  },
  {
   "cell_type": "code",
   "execution_count": 2,
   "metadata": {},
   "outputs": [],
   "source": [
    "from collections import defaultdict\n",
    "from math import ceil\n",
    "\n",
    "chem = dict()"
   ]
  },
  {
   "cell_type": "code",
   "execution_count": 3,
   "metadata": {},
   "outputs": [],
   "source": [
    "class Machine:\n",
    "    def __init__(self, reactions):\n",
    "        self.chem = reactions\n",
    "        self.leftover = defaultdict(int)\n",
    "        \n",
    "    def use_leftover(self, mat, required):\n",
    "        if self.leftover[mat] == required:\n",
    "            self.leftover[mat] -= required\n",
    "            return 0\n",
    "        else:\n",
    "            required -= self.leftover[mat]\n",
    "            self.leftover[mat] = 0\n",
    "            return required\n",
    "        \n",
    "    def get_min_ores(self, c, required=1):\n",
    "        if c == 'ORE':\n",
    "            return required\n",
    "        total_ores = 0\n",
    "        min_prod, mats = self.chem[c]\n",
    "        required = required = self.use_leftover(c, required)\n",
    "        batches = ceil(required / min_prod)\n",
    "        actually_required = batches * min_prod\n",
    "        self.leftover[c] += (actually_required - required)\n",
    "        if actually_required >= 0:\n",
    "            for m, mat in mats:\n",
    "                #print(m,mat, batches*m)\n",
    "                total_ores += self.get_min_ores(mat, batches*m)\n",
    "        return total_ores"
   ]
  },
  {
   "cell_type": "code",
   "execution_count": 4,
   "metadata": {},
   "outputs": [],
   "source": [
    "with open('./data/input_14.txt') as f:\n",
    "    raw = f.read()"
   ]
  },
  {
   "cell_type": "code",
   "execution_count": 5,
   "metadata": {},
   "outputs": [],
   "source": [
    "for reaction in raw.strip().split(\"\\n\"):\n",
    "    pre, post = reaction.split(\" => \")\n",
    "    n, result = get_chemical(post)\n",
    "    chem[result] = (n, [get_chemical(x) for x in pre.split(\", \")])"
   ]
  },
  {
   "cell_type": "code",
   "execution_count": 6,
   "metadata": {},
   "outputs": [
    {
     "data": {
      "text/plain": [
       "431448"
      ]
     },
     "execution_count": 6,
     "metadata": {},
     "output_type": "execute_result"
    }
   ],
   "source": [
    "m = Machine(chem)\n",
    "m.get_min_ores('FUEL',1)"
   ]
  },
  {
   "cell_type": "code",
   "execution_count": 7,
   "metadata": {},
   "outputs": [
    {
     "data": {
      "text/plain": [
       "(999999909585, False)"
      ]
     },
     "execution_count": 7,
     "metadata": {},
     "output_type": "execute_result"
    }
   ],
   "source": [
    "i = 3279311\n",
    "m = Machine(chem)\n",
    "f = m.get_min_ores('FUEL',i)\n",
    "f, f > 1000000000000"
   ]
  }
 ],
 "metadata": {
  "kernelspec": {
   "display_name": "Python 3",
   "language": "python",
   "name": "python3"
  },
  "language_info": {
   "codemirror_mode": {
    "name": "ipython",
    "version": 3
   },
   "file_extension": ".py",
   "mimetype": "text/x-python",
   "name": "python",
   "nbconvert_exporter": "python",
   "pygments_lexer": "ipython3",
   "version": "3.7.5"
  }
 },
 "nbformat": 4,
 "nbformat_minor": 2
}
