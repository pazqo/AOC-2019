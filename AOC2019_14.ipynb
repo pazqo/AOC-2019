{
 "cells": [
  {
   "cell_type": "markdown",
   "metadata": {},
   "source": [
    "# AOC2019 - Day 14\n",
    "\n",
    "Today's challenge: [Day 14](https://adventofcode.com/2019/day/14)\n",
    "\n",
    "Data are manually downloaded into `./data/input_14.txt`"
   ]
  },
  {
   "cell_type": "code",
   "execution_count": 43,
   "metadata": {},
   "outputs": [],
   "source": [
    "def get_chemical(s):\n",
    "    n, c = s.split(\" \")\n",
    "    return (int(n), c)"
   ]
  },
  {
   "cell_type": "code",
   "execution_count": 44,
   "metadata": {},
   "outputs": [],
   "source": [
    "from collections import defaultdict\n",
    "from math import ceil\n",
    "\n",
    "chem = dict()"
   ]
  },
  {
   "cell_type": "code",
   "execution_count": 45,
   "metadata": {},
   "outputs": [],
   "source": [
    "class Machine:\n",
    "    def __init__(self, reactions):\n",
    "        self.chem = reactions\n",
    "        self.leftover = defaultdict(int)\n",
    "        \n",
    "    def use_leftover(self, mat, required):\n",
    "        if self.leftover[mat] == required:\n",
    "            self.leftover[mat] -= required\n",
    "            return 0\n",
    "        else:\n",
    "            required -= self.leftover[mat]\n",
    "            self.leftover[mat] = 0\n",
    "            return required\n",
    "        \n",
    "    def get_min_ores(self, c, required=1):\n",
    "        if c == 'ORE':\n",
    "            return required\n",
    "        total_ores = 0\n",
    "        min_prod, mats = self.chem[c]\n",
    "        required = required = self.use_leftover(c, required)\n",
    "        batches = ceil(required / min_prod)\n",
    "        actually_required = batches * min_prod\n",
    "        self.leftover[c] += (actually_required - required)\n",
    "        if actually_required >= 0:\n",
    "            for m, mat in mats:\n",
    "                #print(m,mat, batches*m)\n",
    "                total_ores += self.get_min_ores(mat, batches*m)\n",
    "        return total_ores"
   ]
  },
  {
   "cell_type": "code",
   "execution_count": 70,
   "metadata": {},
   "outputs": [],
   "source": [
    "raw = \"\"\"\n",
    "171 ORE => 8 CNZTR\n",
    "7 ZLQW, 3 BMBT, 9 XCVML, 26 XMNCP, 1 WPTQ, 2 MZWV, 1 RJRHP => 4 PLWSL\n",
    "114 ORE => 4 BHXH\n",
    "14 VRPVC => 6 BMBT\n",
    "6 BHXH, 18 KTJDG, 12 WPTQ, 7 PLWSL, 31 FHTLT, 37 ZDVW => 1 FUEL\n",
    "6 WPTQ, 2 BMBT, 8 ZLQW, 18 KTJDG, 1 XMNCP, 6 MZWV, 1 RJRHP => 6 FHTLT\n",
    "15 XDBXC, 2 LTCX, 1 VRPVC => 6 ZLQW\n",
    "13 WPTQ, 10 LTCX, 3 RJRHP, 14 XMNCP, 2 MZWV, 1 ZLQW => 1 ZDVW\n",
    "5 BMBT => 4 WPTQ\n",
    "189 ORE => 9 KTJDG\n",
    "1 MZWV, 17 XDBXC, 3 XCVML => 2 XMNCP\n",
    "12 VRPVC, 27 CNZTR => 2 XDBXC\n",
    "15 KTJDG, 12 BHXH => 5 XCVML\n",
    "3 BHXH, 2 VRPVC => 7 MZWV\n",
    "121 ORE => 7 VRPVC\n",
    "7 XCVML => 6 RJRHP\n",
    "5 BHXH, 4 VRPVC => 5 LTCX\n",
    "\"\"\".strip()"
   ]
  },
  {
   "cell_type": "code",
   "execution_count": 75,
   "metadata": {},
   "outputs": [],
   "source": [
    "with open('./data/input_14.txt') as f:\n",
    "    raw = f.read()"
   ]
  },
  {
   "cell_type": "code",
   "execution_count": 76,
   "metadata": {},
   "outputs": [],
   "source": [
    "for reaction in raw.strip().split(\"\\n\"):\n",
    "    pre, post = reaction.split(\" => \")\n",
    "    n, result = get_chemical(post)\n",
    "    chem[result] = (n, [get_chemical(x) for x in pre.split(\", \")])"
   ]
  },
  {
   "cell_type": "code",
   "execution_count": 77,
   "metadata": {},
   "outputs": [
    {
     "data": {
      "text/plain": [
       "431448"
      ]
     },
     "execution_count": 77,
     "metadata": {},
     "output_type": "execute_result"
    }
   ],
   "source": [
    "m = Machine(chem)\n",
    "m.get_min_ores('FUEL',1)"
   ]
  },
  {
   "cell_type": "code",
   "execution_count": 151,
   "metadata": {},
   "outputs": [
    {
     "data": {
      "text/plain": [
       "(999999909585, False)"
      ]
     },
     "execution_count": 151,
     "metadata": {},
     "output_type": "execute_result"
    }
   ],
   "source": [
    "i = 3279311\n",
    "m = Machine(chem)\n",
    "f = m.get_min_ores('FUEL',i)\n",
    "f, f > 1000000000000"
   ]
  },
  {
   "cell_type": "code",
   "execution_count": 63,
   "metadata": {},
   "outputs": [
    {
     "data": {
      "text/plain": [
       "defaultdict(int,\n",
       "            {'FUEL': 0,\n",
       "             'FJRFG': 2,\n",
       "             'JLRM': 5,\n",
       "             'HPKB': 1,\n",
       "             'CTVK': 5,\n",
       "             'SXKT': 0,\n",
       "             'VJNBT': 4,\n",
       "             'VLWQB': 0,\n",
       "             'KZFPJ': 5,\n",
       "             'PQZXH': 3,\n",
       "             'QVNKN': 3,\n",
       "             'FDSX': 5,\n",
       "             'VJMWM': 0,\n",
       "             'JHDW': 0,\n",
       "             'MQXF': 3,\n",
       "             'VQDT': 0,\n",
       "             'JFKGV': 1,\n",
       "             'RPWKC': 0,\n",
       "             'BJVQM': 3,\n",
       "             'ZJGH': 8,\n",
       "             'WHVXC': 0,\n",
       "             'BMJR': 0,\n",
       "             'NWDZ': 3,\n",
       "             'ZVMCB': 0,\n",
       "             'WBQR': 2,\n",
       "             'LGLNV': 0,\n",
       "             'XLFZJ': 0,\n",
       "             'XSNKB': 2,\n",
       "             'WJDF': 5,\n",
       "             'LKPQG': 2,\n",
       "             'KDFNZ': 0,\n",
       "             'GSCG': 2,\n",
       "             'VRQR': 1,\n",
       "             'QWKRZ': 1,\n",
       "             'BCNV': 0,\n",
       "             'BLPJK': 0,\n",
       "             'FHFH': 3,\n",
       "             'JQNF': 4,\n",
       "             'ZKGMX': 3,\n",
       "             'XQBS': 1,\n",
       "             'KQDVM': 0,\n",
       "             'MZKG': 1,\n",
       "             'RWPCH': 0,\n",
       "             'QMBM': 0,\n",
       "             'NPRST': 4,\n",
       "             'MGCQ': 2,\n",
       "             'KGSDJ': 6,\n",
       "             'DZFNW': 5,\n",
       "             'MPKR': 0,\n",
       "             'LMNCH': 2,\n",
       "             'ZSCX': 3,\n",
       "             'CWBNX': 0,\n",
       "             'DGFG': 2,\n",
       "             'JHXBM': 0,\n",
       "             'RBXB': 0,\n",
       "             'RFLX': 0,\n",
       "             'PVTL': 2,\n",
       "             'ZKTX': 2,\n",
       "             'JNKH': 0})"
      ]
     },
     "execution_count": 63,
     "metadata": {},
     "output_type": "execute_result"
    }
   ],
   "source": [
    "m.leftover"
   ]
  },
  {
   "cell_type": "code",
   "execution_count": null,
   "metadata": {},
   "outputs": [],
   "source": []
  },
  {
   "cell_type": "code",
   "execution_count": null,
   "metadata": {},
   "outputs": [],
   "source": []
  },
  {
   "cell_type": "code",
   "execution_count": null,
   "metadata": {},
   "outputs": [],
   "source": []
  },
  {
   "cell_type": "code",
   "execution_count": null,
   "metadata": {},
   "outputs": [],
   "source": []
  },
  {
   "cell_type": "code",
   "execution_count": null,
   "metadata": {},
   "outputs": [],
   "source": []
  },
  {
   "cell_type": "code",
   "execution_count": null,
   "metadata": {},
   "outputs": [],
   "source": []
  },
  {
   "cell_type": "code",
   "execution_count": null,
   "metadata": {},
   "outputs": [],
   "source": []
  },
  {
   "cell_type": "code",
   "execution_count": 6,
   "metadata": {},
   "outputs": [],
   "source": [
    "class Machine:\n",
    "    def __init__(self, reactions):\n",
    "        self.chem = reactions\n",
    "        self.leftovers = defaultdict(int)\n",
    "        self.reduce = {'ORE': 1}\n",
    "        \n",
    "    def update_leftovers(self, required, mat):\n",
    "        if required <= self.leftovers[mat]:\n",
    "            self.leftovers[mat] -= required\n",
    "            return 0\n",
    "        else:\n",
    "            required -= self.leftovers[mat]\n",
    "            self.leftovers[mat] = 0\n",
    "            return required\n",
    "        \n",
    "    def get_min_ores(self, required, c, n=0):\n",
    "        if c == 'ORE':\n",
    "            return (1, required)\n",
    "        total_ores = 0\n",
    "        min_prod, mats = self.chem[c]\n",
    "        batches = ceil(required / min_prod)\n",
    "        \n",
    "        for mat_required, mat in mats:\n",
    "            pass\n",
    "        return (min_prod, 0)\n",
    "            # I need n_required to produce min_prod. I actually need to produce n_required * min_prod"
   ]
  },
  {
   "cell_type": "code",
   "execution_count": 20,
   "metadata": {},
   "outputs": [],
   "source": [
    "raw = \"\"\"\n",
    "9 ORE => 2 A\n",
    "8 ORE => 3 B\n",
    "7 ORE => 5 C\n",
    "3 A, 4 B => 1 AB\n",
    "5 B, 7 C => 1 BC\n",
    "4 C, 1 A => 1 CA\n",
    "2 AB, 3 BC, 4 CA => 1 FUEL\n",
    "\"\"\".strip()"
   ]
  },
  {
   "cell_type": "code",
   "execution_count": 21,
   "metadata": {},
   "outputs": [],
   "source": [
    "for reaction in raw.strip().split(\"\\n\"):\n",
    "    pre, post = reaction.split(\" => \")\n",
    "    n, result = get_chemical(post)\n",
    "    chem[result] = (n, [get_chemical(x) for x in pre.split(\", \")])"
   ]
  },
  {
   "cell_type": "code",
   "execution_count": 22,
   "metadata": {},
   "outputs": [
    {
     "data": {
      "text/plain": [
       "{'A': (2, [(9, 'ORE')]),\n",
       " 'B': (3, [(8, 'ORE')]),\n",
       " 'C': (5, [(7, 'ORE')]),\n",
       " 'AB': (1, [(3, 'A'), (4, 'B')]),\n",
       " 'BC': (1, [(5, 'B'), (7, 'C')]),\n",
       " 'CA': (1, [(4, 'C'), (1, 'A')]),\n",
       " 'FUEL': (1, [(2, 'AB'), (3, 'BC'), (4, 'CA')])}"
      ]
     },
     "execution_count": 22,
     "metadata": {},
     "output_type": "execute_result"
    }
   ],
   "source": [
    "chem"
   ]
  },
  {
   "cell_type": "code",
   "execution_count": 10,
   "metadata": {
    "scrolled": false
   },
   "outputs": [
    {
     "data": {
      "text/plain": [
       "0"
      ]
     },
     "execution_count": 10,
     "metadata": {},
     "output_type": "execute_result"
    }
   ],
   "source": [
    "m = Machine(chem)\n",
    "m.get_min_ores(4, 'A')[1]"
   ]
  },
  {
   "cell_type": "code",
   "execution_count": 103,
   "metadata": {},
   "outputs": [],
   "source": [
    "class Machine:\n",
    "    def __init__(self, reactions):\n",
    "        self.chem = reactions\n",
    "        self.leftovers = defaultdict(int)\n",
    "        self.reduce = {'ORE': 1}\n",
    "        \n",
    "    def update_leftovers(self, required, mat):\n",
    "        if required <= self.leftovers[mat]:\n",
    "            self.leftovers[mat] -= required\n",
    "            return 0\n",
    "        else:\n",
    "            required -= self.leftovers[mat]\n",
    "            self.leftovers[mat] = 0\n",
    "            return required\n",
    "        \n",
    "    def get_min_ores(self, required, c, n=0):\n",
    "        if c == 'ORE':\n",
    "            return (1,required)\n",
    "        min_production, mats = self.chem[c]\n",
    "        total_ores = 0\n",
    "        macro_batch = math.ceil(required / min_production)\n",
    "        print(\"Going to produce %s %s, with %s for %s (%s batches)\" % (required, c, mats, min_production, macro_batch))\n",
    "        for n_required, mat in mats:\n",
    "            tot_required = n_required * macro_batch\n",
    "            tot_required = self.update_leftovers(tot_required, mat)\n",
    "            if tot_required > 0:\n",
    "                print(n*\"-\"+\">\", \"Still need %s %s\" % (tot_required, mat))\n",
    "                total_produced, ores = self.get_min_ores(tot_required, mat, n+1)\n",
    "                if mat != 'ORE':\n",
    "                    print(\"To produce %s %s, I need %s OREs\" % (total_produced, mat, ores))\n",
    "                total_ores += ores\n",
    "                self.leftovers[mat] = total_produced - tot_required\n",
    "                #batches = math.ceil(tot_required / n_produced_at_once)\n",
    "                #n_produced_total = batches * n_produced_at_once\n",
    "                #ores = batches * ores_at_once\n",
    "                #total_ores += ores\n",
    "                #left = n_produced_total - tot_required\n",
    "#                print(\"Producing %s, at %s at once (%s ores), with %s batches, I need %s ores. %s left\" % \n",
    "#                      (mat, n_produced_at_once, ores_at_once,batches, ores, left))\n",
    "        return (min_production, total_ores)"
   ]
  },
  {
   "cell_type": "code",
   "execution_count": 72,
   "metadata": {},
   "outputs": [
    {
     "data": {
      "text/plain": [
       "defaultdict(int, {'AB': 0, 'A': 0, 'ORE': 0, 'B': 0, 'BC': 0, 'C': 0, 'CA': 0})"
      ]
     },
     "execution_count": 72,
     "metadata": {},
     "output_type": "execute_result"
    }
   ],
   "source": [
    "m.leftovers"
   ]
  },
  {
   "cell_type": "code",
   "execution_count": 290,
   "metadata": {},
   "outputs": [],
   "source": [
    "class Machine:\n",
    "    def __init__(self, reactions):\n",
    "        self.chem = reactions\n",
    "        self.leftovers = defaultdict(int)\n",
    "        \n",
    "    def get_min_ores(self,c):\n",
    "        if c == 'ORE':\n",
    "            return (1, 1)\n",
    "        to_produce, mats = self.chem[c]\n",
    "        total_to_produce = 0\n",
    "        for n_required, res in mats:\n",
    "            n_produced, total_ores = self.get_min_ores(res)\n",
    "            n_left = self.leftovers[res]\n",
    "            if n_required <= n_left:\n",
    "                self.leftovers[res] -= n_required\n",
    "            else:\n",
    "                n_required -= n_left\n",
    "                self.leftovers[res] = 0\n",
    "                n_really_produced = n_produced * math.ceil(n_required/n_produced)\n",
    "                total_to_produce += n_required\n",
    "                self.leftovers[res] += (n_really_produced - n_required)\n",
    "        return (to_produce, total_to_produce)"
   ]
  },
  {
   "cell_type": "code",
   "execution_count": 291,
   "metadata": {},
   "outputs": [
    {
     "data": {
      "text/plain": [
       "(1, 9)"
      ]
     },
     "execution_count": 291,
     "metadata": {},
     "output_type": "execute_result"
    }
   ],
   "source": [
    "Machine(chem).get_min_ores('FUEL')"
   ]
  },
  {
   "cell_type": "code",
   "execution_count": null,
   "metadata": {},
   "outputs": [],
   "source": [
    "{\n",
    "    'PVTL': (9, [(2, 'RWPCH')]),\n",
    "    'RWPCH': (1, [(2, 'QMBM')]),\n",
    "    'QMBM': (2, [(3, 'NPRST'), (1, 'KGSDJ'), (1, 'CTVK')]),\n",
    "    'NPRST': (9, [(2, 'ZJGH'), (1, 'JLRM'), (1, 'MGCQ')]),\n",
    "    'KGSDJ': (7, [(2, 'VQDT')]),\n",
    "}\n"
   ]
  },
  {
   "cell_type": "code",
   "execution_count": 272,
   "metadata": {},
   "outputs": [
    {
     "data": {
      "text/plain": [
       "{'PVTL': (9, [(2, 'RWPCH')]),\n",
       " 'BLPJK': (4, [(1, 'FHFH')]),\n",
       " 'VJNBT': (5, [(146, 'ORE')]),\n",
       " 'LKPQG': (5, [(8, 'KDFNZ'), (1, 'ZJGH'), (1, 'GSCG')]),\n",
       " 'BMJR': (2, [(11, 'NWDZ'), (2, 'WBQR'), (1, 'VRQR')]),\n",
       " 'KQDVM': (4, [(3, 'GSCG')]),\n",
       " 'BCNV': (3, [(5, 'QVNKN'), (6, 'RPWKC')]),\n",
       " 'JHXBM': (1, [(10, 'QMBM'), (4, 'RBXB'), (2, 'VRQR')]),\n",
       " 'MGCQ': (6, [(15, 'RPWKC')]),\n",
       " 'FHFH': (4, [(1, 'QWKRZ')]),\n",
       " 'MZKG': (6, [(10, 'RWPCH')]),\n",
       " 'VQDT': (4, [(11, 'JFKGV'), (5, 'QVNKN'), (1, 'CTVK')]),\n",
       " 'RPWKC': (5, [(1, 'SXKT')]),\n",
       " 'RBXB': (2, [(1, 'VQDT'), (25, 'ZVMCB')]),\n",
       " 'WBQR': (3, [(6, 'LGLNV'), (4, 'XSNKB')]),\n",
       " 'SXKT': (2, [(199, 'ORE')]),\n",
       " 'ZKTX': (3,\n",
       "  [(1, 'XSNKB'),\n",
       "   (6, 'CWBNX'),\n",
       "   (1, 'HPKB'),\n",
       "   (5, 'PVTL'),\n",
       "   (1, 'JNKH'),\n",
       "   (9, 'SXKT'),\n",
       "   (3, 'KQDVM')]),\n",
       " 'WJDF': (6, [(7, 'FDSX')]),\n",
       " 'CWBNX': (4, [(7, 'JLRM')]),\n",
       " 'PQZXH': (5, [(167, 'ORE')]),\n",
       " 'DGFG': (6,\n",
       "  [(13, 'JHXBM'),\n",
       "   (2, 'NWDZ'),\n",
       "   (4, 'RFLX'),\n",
       "   (12, 'VRQR'),\n",
       "   (10, 'FJRFG'),\n",
       "   (14, 'PVTL'),\n",
       "   (2, 'JLRM')]),\n",
       " 'ZJGH': (9, [(12, 'HPKB'), (3, 'WHVXC')]),\n",
       " 'FJRFG': (9, [(1, 'JLRM'), (2, 'ZJGH'), (2, 'QVNKN')]),\n",
       " 'KZFPJ': (7, [(129, 'ORE')]),\n",
       " 'RWPCH': (1, [(2, 'QMBM')]),\n",
       " 'JHDW': (4, [(7, 'VJMWM')]),\n",
       " 'BJVQM': (9, [(7, 'PQZXH'), (7, 'SXKT')]),\n",
       " 'FDSX': (7, [(1, 'VJMWM'), (4, 'JHDW'), (1, 'MQXF')]),\n",
       " 'WHVXC': (7, [(1, 'RPWKC')]),\n",
       " 'ZVMCB': (1, [(1, 'ZJGH')]),\n",
       " 'MPKR': (3, [(1, 'RWPCH')]),\n",
       " 'VJMWM': (8, [(187, 'ORE')]),\n",
       " 'GSCG': (5, [(15, 'CTVK')]),\n",
       " 'RFLX': (2, [(2, 'XSNKB'), (15, 'ZVMCB'), (3, 'KDFNZ')]),\n",
       " 'XLFZJ': (8, [(18, 'QVNKN')]),\n",
       " 'ZSCX': (8, [(4, 'CWBNX')]),\n",
       " 'NPRST': (9, [(2, 'ZJGH'), (1, 'JLRM'), (1, 'MGCQ')]),\n",
       " 'QWKRZ': (2, [(13, 'BJVQM'), (2, 'BCNV')]),\n",
       " 'VRQR': (2, [(2, 'QWKRZ'), (2, 'BLPJK'), (5, 'XSNKB')]),\n",
       " 'JLRM': (9, [(13, 'HPKB'), (3, 'VQDT')]),\n",
       " 'CTVK': (6, [(2, 'SXKT'), (1, 'VJNBT'), (5, 'VLWQB')]),\n",
       " 'DZFNW': (8, [(2, 'MPKR'), (2, 'LMNCH'), (24, 'VRQR')]),\n",
       " 'KDFNZ': (1, [(2, 'VQDT')]),\n",
       " 'QVNKN': (6, [(1, 'CTVK'), (6, 'FDSX')]),\n",
       " 'HPKB': (4, [(3, 'CTVK'), (1, 'QVNKN')]),\n",
       " 'QMBM': (2, [(3, 'NPRST'), (1, 'KGSDJ'), (1, 'CTVK')]),\n",
       " 'VLWQB': (5, [(4, 'KZFPJ'), (1, 'PQZXH')]),\n",
       " 'KGSDJ': (7, [(2, 'VQDT')]),\n",
       " 'JNKH': (2, [(3, 'MPKR')]),\n",
       " 'XQBS': (5, [(1, 'KQDVM')]),\n",
       " 'JQNF': (6,\n",
       "  [(3, 'ZKGMX'),\n",
       "   (1, 'XQBS'),\n",
       "   (11, 'MZKG'),\n",
       "   (11, 'NPRST'),\n",
       "   (1, 'DZFNW'),\n",
       "   (5, 'VQDT'),\n",
       "   (2, 'FHFH')]),\n",
       " 'FUEL': (1,\n",
       "  [(2, 'FJRFG'),\n",
       "   (17, 'BMJR'),\n",
       "   (3, 'BJVQM'),\n",
       "   (55, 'JQNF'),\n",
       "   (8, 'DGFG'),\n",
       "   (13, 'ZJGH'),\n",
       "   (29, 'ZKTX')]),\n",
       " 'MQXF': (5, [(27, 'KZFPJ'), (5, 'VJNBT')]),\n",
       " 'ZKGMX': (4, [(11, 'FDSX'), (1, 'WHVXC'), (1, 'WJDF')]),\n",
       " 'NWDZ': (4, [(1, 'ZVMCB')]),\n",
       " 'LGLNV': (6, [(1, 'XLFZJ')]),\n",
       " 'LMNCH': (8, [(13, 'ZSCX'), (4, 'XLFZJ')]),\n",
       " 'JFKGV': (8, [(1, 'RPWKC'), (1, 'FDSX'), (2, 'BJVQM')]),\n",
       " 'XSNKB': (4, [(1, 'WJDF'), (1, 'LKPQG')])}"
      ]
     },
     "execution_count": 272,
     "metadata": {},
     "output_type": "execute_result"
    }
   ],
   "source": [
    "chem"
   ]
  },
  {
   "cell_type": "code",
   "execution_count": 268,
   "metadata": {},
   "outputs": [
    {
     "name": "stdout",
     "output_type": "stream",
     "text": [
      "PVTL (9, 16738)\n",
      "BLPJK (4, 3583)\n",
      "VJNBT (5, 146)\n",
      "LKPQG (5, 36440)\n",
      "BMJR (2, 35466)\n",
      "KQDVM (4, 1923)\n",
      "BCNV (3, 1888)\n",
      "JHXBM (1, 47661)\n",
      "MGCQ (6, 597)\n",
      "FHFH (4, 3583)\n",
      "MZKG (6, 83690)\n",
      "VQDT (4, 4432)\n",
      "RPWKC (5, 199)\n",
      "RBXB (2, 4432)\n",
      "WBQR (3, 22251)\n",
      "SXKT (2, 199)\n",
      "ZKTX (3, 33579)\n",
      "WJDF (6, 849)\n",
      "CWBNX (4, 7370)\n",
      "PQZXH (5, 167)\n",
      "DGFG (6, 625371)\n",
      "ZJGH (9, 4282)\n",
      "FJRFG (9, 8915)\n",
      "KZFPJ (7, 129)\n",
      "RWPCH (1, 8369)\n",
      "JHDW (4, 187)\n",
      "BJVQM (9, 1130)\n",
      "FDSX (7, 849)\n",
      "WHVXC (7, 199)\n",
      "ZVMCB (1, 4282)\n",
      "MPKR (3, 8369)\n",
      "VJMWM (8, 187)\n",
      "GSCG (5, 1923)\n",
      "RFLX (2, 26697)\n",
      "XLFZJ (8, 4470)\n",
      "ZSCX (8, 7370)\n",
      "NPRST (9, 8041)\n",
      "QWKRZ (2, 3583)\n",
      "VRQR (2, 36829)\n",
      "JLRM (9, 7370)\n",
      "CTVK (6, 641)\n",
      "DZFNW (8, 123722)\n",
      "KDFNZ (1, 4432)\n",
      "QVNKN (6, 1490)\n",
      "HPKB (4, 1361)\n",
      "QMBM (2, 8369)\n",
      "VLWQB (5, 296)\n",
      "KGSDJ (7, 4432)\n",
      "JNKH (2, 8369)\n",
      "XQBS (5, 1923)\n",
      "JQNF (6, 280239)\n",
      "FUEL (1, 400599)\n",
      "MQXF (5, 662)\n",
      "ZKGMX (4, 2084)\n",
      "NWDZ (4, 4282)\n",
      "LGLNV (6, 4470)\n",
      "LMNCH (8, 16285)\n",
      "JFKGV (8, 1979)\n",
      "XSNKB (4, 26697)\n"
     ]
    }
   ],
   "source": [
    "for c in chem:\n",
    "    m = Machine(chem)\n",
    "    print(c, m.get_min_ores(c))"
   ]
  },
  {
   "cell_type": "code",
   "execution_count": 264,
   "metadata": {
    "scrolled": false
   },
   "outputs": [
    {
     "data": {
      "text/plain": [
       "defaultdict(int,\n",
       "            {'ORE': 0,\n",
       "             'SXKT': 1,\n",
       "             'VJNBT': 3,\n",
       "             'KZFPJ': 1,\n",
       "             'PQZXH': 2,\n",
       "             'VLWQB': 0,\n",
       "             'CTVK': 2,\n",
       "             'VJMWM': 0,\n",
       "             'JHDW': 0,\n",
       "             'MQXF': 3,\n",
       "             'FDSX': 1,\n",
       "             'QVNKN': 5,\n",
       "             'HPKB': 3,\n",
       "             'RPWKC': 1,\n",
       "             'BJVQM': 4,\n",
       "             'JFKGV': 4,\n",
       "             'VQDT': 2,\n",
       "             'JLRM': 2,\n",
       "             'WHVXC': 6,\n",
       "             'ZJGH': 3,\n",
       "             'FJRFG': 6,\n",
       "             'ZVMCB': 0,\n",
       "             'NWDZ': 3,\n",
       "             'XLFZJ': 3,\n",
       "             'LGLNV': 0,\n",
       "             'WJDF': 4,\n",
       "             'KDFNZ': 0,\n",
       "             'GSCG': 2,\n",
       "             'LKPQG': 3,\n",
       "             'XSNKB': 1,\n",
       "             'WBQR': 1,\n",
       "             'BCNV': 0,\n",
       "             'QWKRZ': 1,\n",
       "             'FHFH': 2,\n",
       "             'BLPJK': 0,\n",
       "             'VRQR': 1,\n",
       "             'BMJR': 1,\n",
       "             'ZKGMX': 1,\n",
       "             'KQDVM': 0,\n",
       "             'XQBS': 4,\n",
       "             'MGCQ': 5,\n",
       "             'NPRST': 7,\n",
       "             'KGSDJ': 1,\n",
       "             'QMBM': 0,\n",
       "             'RWPCH': 0,\n",
       "             'MZKG': 1,\n",
       "             'MPKR': 1,\n",
       "             'CWBNX': 2,\n",
       "             'ZSCX': 3,\n",
       "             'LMNCH': 6,\n",
       "             'DZFNW': 7,\n",
       "             'JQNF': 5,\n",
       "             'RBXB': 0,\n",
       "             'JHXBM': 0,\n",
       "             'RFLX': 0,\n",
       "             'PVTL': 8,\n",
       "             'DGFG': 4,\n",
       "             'JNKH': 1,\n",
       "             'ZKTX': 1})"
      ]
     },
     "execution_count": 264,
     "metadata": {},
     "output_type": "execute_result"
    }
   ],
   "source": [
    "m.leftovers"
   ]
  },
  {
   "cell_type": "code",
   "execution_count": 103,
   "metadata": {},
   "outputs": [],
   "source": [
    "# --> (5, 167)"
   ]
  },
  {
   "cell_type": "code",
   "execution_count": 104,
   "metadata": {},
   "outputs": [
    {
     "data": {
      "text/plain": [
       "(2, 2)"
      ]
     },
     "execution_count": 104,
     "metadata": {},
     "output_type": "execute_result"
    }
   ],
   "source": [
    "get_min_ores('SXKT')"
   ]
  },
  {
   "cell_type": "code",
   "execution_count": 107,
   "metadata": {},
   "outputs": [
    {
     "data": {
      "text/plain": [
       "(5, 5)"
      ]
     },
     "execution_count": 107,
     "metadata": {},
     "output_type": "execute_result"
    }
   ],
   "source": [
    "get_min_ores('PQZXH')"
   ]
  },
  {
   "cell_type": "code",
   "execution_count": 105,
   "metadata": {},
   "outputs": [
    {
     "data": {
      "text/plain": [
       "(1,\n",
       " [(2, 'FJRFG'),\n",
       "  (17, 'BMJR'),\n",
       "  (3, 'BJVQM'),\n",
       "  (55, 'JQNF'),\n",
       "  (8, 'DGFG'),\n",
       "  (13, 'ZJGH'),\n",
       "  (29, 'ZKTX')])"
      ]
     },
     "execution_count": 105,
     "metadata": {},
     "output_type": "execute_result"
    }
   ],
   "source": [
    "chem['FUEL'] # 3, 'BJVQM'"
   ]
  },
  {
   "cell_type": "code",
   "execution_count": 86,
   "metadata": {},
   "outputs": [
    {
     "data": {
      "text/plain": [
       "(9, [(7, 'PQZXH'), (7, 'SXKT')])"
      ]
     },
     "execution_count": 86,
     "metadata": {},
     "output_type": "execute_result"
    }
   ],
   "source": [
    "# 3, 'BJVQM'\n",
    "chem['BJVQM']\n",
    "# 9 > 3 --> 1 is enough (max(1, 3//9))"
   ]
  },
  {
   "cell_type": "code",
   "execution_count": null,
   "metadata": {},
   "outputs": [],
   "source": []
  },
  {
   "cell_type": "code",
   "execution_count": null,
   "metadata": {},
   "outputs": [],
   "source": []
  },
  {
   "cell_type": "code",
   "execution_count": null,
   "metadata": {},
   "outputs": [],
   "source": []
  },
  {
   "cell_type": "code",
   "execution_count": null,
   "metadata": {},
   "outputs": [],
   "source": []
  },
  {
   "cell_type": "code",
   "execution_count": null,
   "metadata": {},
   "outputs": [],
   "source": []
  },
  {
   "cell_type": "code",
   "execution_count": 108,
   "metadata": {},
   "outputs": [
    {
     "data": {
      "text/plain": [
       "(1, 54042)"
      ]
     },
     "execution_count": 108,
     "metadata": {},
     "output_type": "execute_result"
    }
   ],
   "source": [
    "get_min_ores('FUEL')"
   ]
  },
  {
   "cell_type": "code",
   "execution_count": null,
   "metadata": {},
   "outputs": [],
   "source": []
  }
 ],
 "metadata": {
  "kernelspec": {
   "display_name": "Python 3",
   "language": "python",
   "name": "python3"
  },
  "language_info": {
   "codemirror_mode": {
    "name": "ipython",
    "version": 3
   },
   "file_extension": ".py",
   "mimetype": "text/x-python",
   "name": "python",
   "nbconvert_exporter": "python",
   "pygments_lexer": "ipython3",
   "version": "3.7.5"
  }
 },
 "nbformat": 4,
 "nbformat_minor": 2
}
